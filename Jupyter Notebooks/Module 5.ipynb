{
 "cells": [
  {
   "cell_type": "markdown",
   "id": "e11c4167",
   "metadata": {},
   "source": [
    "# Module 5: T-Tests\n",
    "## Hypothesis Testing Using a T-distribution\n",
    "## Hawken Hass\n",
    "## University of North Carolina Wilmington"
   ]
  },
  {
   "cell_type": "markdown",
   "id": "a478a0b1",
   "metadata": {},
   "source": [
    "# One Sample T-Test\n",
    "T-tests are appropriate for identifying a significant mean difference between two groups. A one sample t-test is used when you want to compare a sample mean to a population mean. This test will tell you if the sample mean is signficantly different from the population mean. First, let's read in some data and activate the necessary packages."
   ]
  },
  {
   "cell_type": "code",
   "execution_count": 1,
   "id": "70fca3a6",
   "metadata": {},
   "outputs": [
    {
     "data": {
      "text/html": [
       "<table>\n",
       "<thead><tr><th scope=col>Month</th><th scope=col>Period</th><th scope=col>SeaHawk</th><th scope=col>Randall</th></tr></thead>\n",
       "<tbody>\n",
       "\t<tr><td>Jan      </td><td>2001-2019</td><td> 3.125990</td><td>10.915324</td></tr>\n",
       "\t<tr><td>Feb      </td><td>2001-2019</td><td>12.441331</td><td> 5.148206</td></tr>\n",
       "\t<tr><td>Mar      </td><td>2001-2019</td><td> 3.230104</td><td> 5.982370</td></tr>\n",
       "\t<tr><td>Apr      </td><td>2001-2019</td><td>10.907835</td><td> 6.179094</td></tr>\n",
       "\t<tr><td>May      </td><td>2001-2019</td><td> 9.674827</td><td> 8.532295</td></tr>\n",
       "\t<tr><td>Jun      </td><td>2001-2019</td><td> 8.033946</td><td> 6.132740</td></tr>\n",
       "\t<tr><td>Jul      </td><td>2001-2019</td><td>12.318558</td><td>14.437468</td></tr>\n",
       "\t<tr><td>Aug      </td><td>2001-2019</td><td> 6.557286</td><td>11.269315</td></tr>\n",
       "\t<tr><td>Sep      </td><td>2001-2019</td><td> 6.057994</td><td>15.059383</td></tr>\n",
       "\t<tr><td>Oct      </td><td>2001-2019</td><td>12.040164</td><td>10.124065</td></tr>\n",
       "\t<tr><td>Nov      </td><td>2001-2019</td><td> 5.369271</td><td> 2.171475</td></tr>\n",
       "\t<tr><td>Dec      </td><td>2001-2019</td><td> 8.132666</td><td>12.947003</td></tr>\n",
       "</tbody>\n",
       "</table>\n"
      ],
      "text/latex": [
       "\\begin{tabular}{r|llll}\n",
       " Month & Period & SeaHawk & Randall\\\\\n",
       "\\hline\n",
       "\t Jan       & 2001-2019 &  3.125990 & 10.915324\\\\\n",
       "\t Feb       & 2001-2019 & 12.441331 &  5.148206\\\\\n",
       "\t Mar       & 2001-2019 &  3.230104 &  5.982370\\\\\n",
       "\t Apr       & 2001-2019 & 10.907835 &  6.179094\\\\\n",
       "\t May       & 2001-2019 &  9.674827 &  8.532295\\\\\n",
       "\t Jun       & 2001-2019 &  8.033946 &  6.132740\\\\\n",
       "\t Jul       & 2001-2019 & 12.318558 & 14.437468\\\\\n",
       "\t Aug       & 2001-2019 &  6.557286 & 11.269315\\\\\n",
       "\t Sep       & 2001-2019 &  6.057994 & 15.059383\\\\\n",
       "\t Oct       & 2001-2019 & 12.040164 & 10.124065\\\\\n",
       "\t Nov       & 2001-2019 &  5.369271 &  2.171475\\\\\n",
       "\t Dec       & 2001-2019 &  8.132666 & 12.947003\\\\\n",
       "\\end{tabular}\n"
      ],
      "text/markdown": [
       "\n",
       "| Month | Period | SeaHawk | Randall |\n",
       "|---|---|---|---|\n",
       "| Jan       | 2001-2019 |  3.125990 | 10.915324 |\n",
       "| Feb       | 2001-2019 | 12.441331 |  5.148206 |\n",
       "| Mar       | 2001-2019 |  3.230104 |  5.982370 |\n",
       "| Apr       | 2001-2019 | 10.907835 |  6.179094 |\n",
       "| May       | 2001-2019 |  9.674827 |  8.532295 |\n",
       "| Jun       | 2001-2019 |  8.033946 |  6.132740 |\n",
       "| Jul       | 2001-2019 | 12.318558 | 14.437468 |\n",
       "| Aug       | 2001-2019 |  6.557286 | 11.269315 |\n",
       "| Sep       | 2001-2019 |  6.057994 | 15.059383 |\n",
       "| Oct       | 2001-2019 | 12.040164 | 10.124065 |\n",
       "| Nov       | 2001-2019 |  5.369271 |  2.171475 |\n",
       "| Dec       | 2001-2019 |  8.132666 | 12.947003 |\n",
       "\n"
      ],
      "text/plain": [
       "   Month Period    SeaHawk   Randall  \n",
       "1  Jan   2001-2019  3.125990 10.915324\n",
       "2  Feb   2001-2019 12.441331  5.148206\n",
       "3  Mar   2001-2019  3.230104  5.982370\n",
       "4  Apr   2001-2019 10.907835  6.179094\n",
       "5  May   2001-2019  9.674827  8.532295\n",
       "6  Jun   2001-2019  8.033946  6.132740\n",
       "7  Jul   2001-2019 12.318558 14.437468\n",
       "8  Aug   2001-2019  6.557286 11.269315\n",
       "9  Sep   2001-2019  6.057994 15.059383\n",
       "10 Oct   2001-2019 12.040164 10.124065\n",
       "11 Nov   2001-2019  5.369271  2.171475\n",
       "12 Dec   2001-2019  8.132666 12.947003"
      ]
     },
     "metadata": {},
     "output_type": "display_data"
    }
   ],
   "source": [
    "lake_data<-read.table(\"lake_data.txt\")\n",
    "lake_data"
   ]
  },
  {
   "cell_type": "code",
   "execution_count": 2,
   "id": "2ded31eb",
   "metadata": {},
   "outputs": [
    {
     "name": "stderr",
     "output_type": "stream",
     "text": [
      "\n",
      "Attaching package: 'dplyr'\n",
      "\n",
      "The following objects are masked from 'package:stats':\n",
      "\n",
      "    filter, lag\n",
      "\n",
      "The following objects are masked from 'package:base':\n",
      "\n",
      "    intersect, setdiff, setequal, union\n",
      "\n",
      "Loading required package: carData\n",
      "\n",
      "Attaching package: 'car'\n",
      "\n",
      "The following object is masked from 'package:dplyr':\n",
      "\n",
      "    recode\n",
      "\n"
     ]
    }
   ],
   "source": [
    "library(dplyr)\n",
    "library(lsr)\n",
    "library(car)"
   ]
  },
  {
   "cell_type": "markdown",
   "id": "b2d77da9",
   "metadata": {},
   "source": [
    "## Assumptions\n",
    "Before running the analyses we first need to check our assumptions. The assumptions are as follows:\n",
    "1. One continuous dependent variable (interval or ratio)\n",
    "2. One discrete independent variable (categorical, ordinal, or dichotomous with no more than two levels)\n",
    "3. Each data point is independent of one another\n",
    "4. Data is normally distributed (bell-curve shaped)\n",
    "5. No outliers\n",
    "\n",
    "Assumptions 1-3 are typically accounted for when designing the study prior to analysis. Assumptions 4-5 can be checked using graphs and statistical tests."
   ]
  },
  {
   "cell_type": "markdown",
   "id": "81c3617f",
   "metadata": {},
   "source": [
    "### Normality\n",
    "\n",
    "\n",
    "Normality can be visually assessed with various types of graphs. In this example the dependent variable is the average monthly rainfall at Randall Lake. There are a few graphs that are appropriate for assessing normality: a histogram, a density plot, or a QQ-plot. Let's activate the ggplot2 package so we can visualize our data."
   ]
  },
  {
   "cell_type": "code",
   "execution_count": 3,
   "id": "e536d44c",
   "metadata": {
    "scrolled": true
   },
   "outputs": [
    {
     "name": "stderr",
     "output_type": "stream",
     "text": [
      "Registered S3 methods overwritten by 'ggplot2':\n",
      "  method         from \n",
      "  [.quosures     rlang\n",
      "  c.quosures     rlang\n",
      "  print.quosures rlang\n"
     ]
    }
   ],
   "source": [
    "library(ggplot2)"
   ]
  },
  {
   "cell_type": "code",
   "execution_count": 4,
   "id": "d6fe4e15",
   "metadata": {},
   "outputs": [
    {
     "data": {
      "image/png": "[encoded data removed]",
      "text/plain": [
       "plot without title"
      ]
     },
     "metadata": {},
     "output_type": "display_data"
    },
    {
     "data": {
      "image/png": "[encoded data removed]",
      "text/plain": [
       "plot without title"
      ]
     },
     "metadata": {},
     "output_type": "display_data"
    }
   ],
   "source": [
    "ggplot(lake_data, aes(x=Randall))+geom_histogram(binwidth=2, colour=\"black\",aes(y=..density..))+\n",
    "stat_function(fun=dnorm,color=\"red\",args=list(mean=mean(lake_data$Randall),  sd=sd(lake_data$Randall)))+ scale_x_continuous(limits = c(-5, 25))\n",
    "\n",
    "ggplot(lake_data, aes(x=SeaHawk))+geom_histogram(binwidth=2, colour=\"black\",aes(y=..density..))+\n",
    "stat_function(fun=dnorm,color=\"red\",args=list(mean=8.15,sd=sd(lake_data$SeaHawk)))+ scale_x_continuous(limits = c(-5, 25))\n"
   ]
  },
  {
   "cell_type": "markdown",
   "id": "9eb960f9",
   "metadata": {},
   "source": [
    "The shape of the histogram will tell us if the data is normally distributed. If the data is shaped like a bell-curve, we can assume the data is normally distributed.  With the stat_function() function I added a reference for what a normally distribution curve would look like (red line).Sometimes it is difficult to tell the shape with a histogram, and a density plot may be more appropriate."
   ]
  },
  {
   "cell_type": "code",
   "execution_count": 5,
   "id": "9043399b",
   "metadata": {
    "scrolled": false
   },
   "outputs": [
    {
     "data": {
      "image/png": "[encoded data removed]",
      "text/plain": [
       "plot without title"
      ]
     },
     "metadata": {},
     "output_type": "display_data"
    },
    {
     "data": {
      "image/png": "[encoded data removed]",
      "text/plain": [
       "plot without title"
      ]
     },
     "metadata": {},
     "output_type": "display_data"
    }
   ],
   "source": [
    "ggplot(data=lake_data,aes(x=Randall))+geom_density()+\n",
    "stat_function(fun=dnorm,color=\"red\",args=list(mean=mean(lake_data$Randall),  sd=sd(lake_data$Randall))) + scale_x_continuous(limits = c(0, 20))\n",
    "\n",
    "ggplot(data=lake_data,aes(x=SeaHawk))+geom_density()+stat_function(fun=dnorm,color=\"red\",args=list(mean=mean(lake_data$SeaHawk),  sd=sd(lake_data$SeaHawk))) + scale_x_continuous(limits = c(-5, 25))"
   ]
  },
  {
   "cell_type": "markdown",
   "id": "89c6e00f",
   "metadata": {},
   "source": [
    "The data seems to follow closely to a normal distribution. Another method of evaluating normality is through a QQ plot."
   ]
  },
  {
   "cell_type": "code",
   "execution_count": 6,
   "id": "8182f0fb",
   "metadata": {},
   "outputs": [
    {
     "data": {
      "image/png": "[encoded data removed]",
      "text/plain": [
       "plot without title"
      ]
     },
     "metadata": {},
     "output_type": "display_data"
    },
    {
     "data": {
      "image/png": "[encoded data removed]",
      "text/plain": [
       "plot without title"
      ]
     },
     "metadata": {},
     "output_type": "display_data"
    }
   ],
   "source": [
    "ggplot(data=lake_data,aes(sample=Randall))+stat_qq()+stat_qq_line()\n",
    "ggplot(data=lake_data, aes(sample=SeaHawk))+stat_qq()+stat_qq_line()"
   ]
  },
  {
   "cell_type": "markdown",
   "id": "2563c97b",
   "metadata": {},
   "source": [
    "The closer the points are to the black diagonal line, the more normally distributed the data."
   ]
  },
  {
   "cell_type": "markdown",
   "id": "d4c423e4",
   "metadata": {},
   "source": [
    "Another way to test for normality is using the Shapiro-Wilks test. This test will give you a p-value that denotes whether the data is normally distributed or not. This test is helpful if you are having trouble interpreting the visualizations of normality. You will need to run the test on each group."
   ]
  },
  {
   "cell_type": "code",
   "execution_count": 7,
   "id": "10fdaf0f",
   "metadata": {},
   "outputs": [
    {
     "data": {
      "text/plain": [
       "\n",
       "\tShapiro-Wilk normality test\n",
       "\n",
       "data:  lake_data$Randall\n",
       "W = 0.95665, p-value = 0.7352\n"
      ]
     },
     "metadata": {},
     "output_type": "display_data"
    },
    {
     "data": {
      "text/plain": [
       "\n",
       "\tShapiro-Wilk normality test\n",
       "\n",
       "data:  lake_data$SeaHawk\n",
       "W = 0.92449, p-value = 0.3254\n"
      ]
     },
     "metadata": {},
     "output_type": "display_data"
    }
   ],
   "source": [
    "shapiro.test(lake_data$Randall)\n",
    "shapiro.test(lake_data$SeaHawk)"
   ]
  },
  {
   "cell_type": "markdown",
   "id": "3762643b",
   "metadata": {},
   "source": [
    "For this test a significant p-value (<.05) indicates that the distribution is significantly different from a normal distribution. Therefore, a significant p-value indicates that the normality assumption was violated. For both of our groups, the p-value is not less than .05, therefore the data meets the assumption of normality. Now we can proceed with the analysis!"
   ]
  },
  {
   "cell_type": "markdown",
   "id": "92d0a71f",
   "metadata": {},
   "source": [
    "## One Sample T-Test\n",
    "The one sample T-test is appropriate when you know the population mean of the distribution and are examining whether one sample mean is significantly different from the population mean. For example let's say that the population mean (i.e., the mean monthly rainfall for all lakes in North America) is 64mm. We are comparing the average monthly rainfall in lakes Randall and SeaHawk to this population mean of 64mm to see if there is a statistically significant difference."
   ]
  },
  {
   "cell_type": "code",
   "execution_count": 8,
   "id": "87c1ac8a",
   "metadata": {},
   "outputs": [
    {
     "data": {
      "text/plain": [
       "\n",
       "\tOne Sample t-test\n",
       "\n",
       "data:  lake_data$Randall\n",
       "t = -47.187, df = 11, p-value = 4.744e-14\n",
       "alternative hypothesis: true mean is not equal to 64\n",
       "95 percent confidence interval:\n",
       "  6.512964 11.636826\n",
       "sample estimates:\n",
       "mean of x \n",
       " 9.074895 \n"
      ]
     },
     "metadata": {},
     "output_type": "display_data"
    },
    {
     "data": {
      "text/plain": [
       "\n",
       "\tOne Sample t-test\n",
       "\n",
       "data:  lake_data$SeaHawk\n",
       "t = -57.394, df = 11, p-value = 5.549e-15\n",
       "alternative hypothesis: true mean is not equal to 64\n",
       "95 percent confidence interval:\n",
       "  6.015998 10.298997\n",
       "sample estimates:\n",
       "mean of x \n",
       " 8.157498 \n"
      ]
     },
     "metadata": {},
     "output_type": "display_data"
    }
   ],
   "source": [
    "onesample_randall<-t.test(lake_data$Randall,alternative=(\"two.sided\"), mu=64)\n",
    "onesample_randall\n",
    "onesample_seahawk<-t.test(lake_data$SeaHawk,alternative=(\"two.sided\"),mu=64)\n",
    "onesample_seahawk"
   ]
  },
  {
   "cell_type": "markdown",
   "id": "f809c2a8",
   "metadata": {},
   "source": [
    "Above shows the output of our t-tests. You can see in our code we input the vector in which we are getting our sample mean from, whether we want a directional or non-directional hypothesis, and the population mean. The primary value you are looking for is the p-value. For both of our lakes the p-value is very small, considerably lower than .05. This suggests that for both lakes there is a statistically significant difference between the sample mean and the population mean. If you want to know the direction of this difference, all you have to look at is the sample mean. For example, in Lake Randall the mean monthly rainfall is 9.08. 9.08 is less than 64, therefore we can say that the average monthly rainfall for Lake Randall was significantly lower than the population mean."
   ]
  },
  {
   "attachments": {
    "download%20%2811%29.png": {
     "image/png": "[encoded data removed]"
    }
   },
   "cell_type": "markdown",
   "id": "63bb1ef9",
   "metadata": {},
   "source": [
    "## Effect Size\n",
    "The effect size for a one sample t-test is called Cohen's D. This value will tell you the magnitude of your effect size (whether it is a large effect or a small effect). Below is the interpretation for each effect size value according to Cohen (1992)\n",
    "![download%20%2811%29.png](attachment:download%20%2811%29.png)"
   ]
  },
  {
   "cell_type": "code",
   "execution_count": 9,
   "id": "1418f8eb",
   "metadata": {},
   "outputs": [
    {
     "data": {
      "text/html": [
       "13.6216577590701"
      ],
      "text/latex": [
       "13.6216577590701"
      ],
      "text/markdown": [
       "13.6216577590701"
      ],
      "text/plain": [
       "[1] 13.62166"
      ]
     },
     "metadata": {},
     "output_type": "display_data"
    },
    {
     "data": {
      "text/html": [
       "16.5681240164619"
      ],
      "text/latex": [
       "16.5681240164619"
      ],
      "text/markdown": [
       "16.5681240164619"
      ],
      "text/plain": [
       "[1] 16.56812"
      ]
     },
     "metadata": {},
     "output_type": "display_data"
    }
   ],
   "source": [
    "CohensD_singleT_randall<-cohensD(x=lake_data$Randall,mu=64)\n",
    "CohensD_singleT_randall\n",
    "CohensD_singleT_seahawk<-cohensD(x=lake_data$SeaHawk,mu=64)\n",
    "CohensD_singleT_seahawk"
   ]
  },
  {
   "cell_type": "markdown",
   "id": "efcd0472",
   "metadata": {},
   "source": [
    "According to the Cohen's d effect size interpretation, the effects for each lake are very large! This suggests there is a very large difference in the population mean and the sample means for the two lakes."
   ]
  },
  {
   "cell_type": "markdown",
   "id": "3ee0a083",
   "metadata": {},
   "source": [
    "# Independent Sample T-Test\n",
    "Let's say that instead of comparing the sample means of the two lakes to a population mean you want to compare the mean monthly  rainfall in Lake Randall, to the mean monthly rainfall in Lake SeaHawk. Now, we are comparing two independent groups to eachother and thus we should run an Independent Sample T-Test."
   ]
  },
  {
   "cell_type": "markdown",
   "id": "045f75d9",
   "metadata": {},
   "source": [
    "## Assumptions\n",
    "Running an Independent T-test comes with additional assumptions to be tested. The assumption of normality still stands so just like above you should assess normality using histograms, QQ-plots, and/or the Shapiro-Wilks test. Now we are introducing two new assumptions: Homogeneity of Variance (HOV) and Independence of Observations.\n",
    "### Independence\n",
    "The assumption of independent groups is not something that we can formally test for, but is something that is taken into consideration when designing your research experiment. You want to make sure that your two groups are completely independent of eachother. In this case the measurements of rainfall are taken from two different lakes, thus our design meets the assumption of independence. A violation of independence would be if measures of rainfall were taken from the same lake at different time periods. Or perhaps if the two lakes were in the same geographical location. Other violations of normality would be if data were taken from the sampe participants at different time points, such as in a pre/post design, of if the participants were in some way related to eachother. For example, if a researcher wanted to examine differences in anxiety scores across males and females, a violation of independence would be if participants in the two groups came from the same family. Research design is a critical component to consider when choosing statistical tests.\n",
    "### Homogeneity of Variance\n",
    "Another important assumption of an independent t-test is that the variances between the two groups are equal. Variance is a measure of dispersion of your data. If one group has very high variance (participants have a wider range of different scores) and another group has very low variance (all scores are close to the mean; or a small range of different scores), then this will skew the interpretation of the mean comparison. We can test for homoheneity of variance using a Levene's Test."
   ]
  },
  {
   "cell_type": "markdown",
   "id": "2f171de5",
   "metadata": {},
   "source": [
    "First, I am going to convert the data to long format, which is necessary for running the Levene's test and the Independent T-Test. You will also need to activate a package called car."
   ]
  },
  {
   "cell_type": "code",
   "execution_count": 10,
   "id": "29ee0c07",
   "metadata": {},
   "outputs": [
    {
     "data": {
      "text/html": [
       "<table>\n",
       "<thead><tr><th scope=col>Month</th><th scope=col>Period</th><th scope=col>Lake</th><th scope=col>Rainfall_mm</th></tr></thead>\n",
       "<tbody>\n",
       "\t<tr><td>Jan      </td><td>2001-2019</td><td>SeaHawk  </td><td> 3.125990</td></tr>\n",
       "\t<tr><td>Feb      </td><td>2001-2019</td><td>SeaHawk  </td><td>12.441331</td></tr>\n",
       "\t<tr><td>Mar      </td><td>2001-2019</td><td>SeaHawk  </td><td> 3.230104</td></tr>\n",
       "\t<tr><td>Apr      </td><td>2001-2019</td><td>SeaHawk  </td><td>10.907835</td></tr>\n",
       "\t<tr><td>May      </td><td>2001-2019</td><td>SeaHawk  </td><td> 9.674827</td></tr>\n",
       "\t<tr><td>Jun      </td><td>2001-2019</td><td>SeaHawk  </td><td> 8.033946</td></tr>\n",
       "\t<tr><td>Jul      </td><td>2001-2019</td><td>SeaHawk  </td><td>12.318558</td></tr>\n",
       "\t<tr><td>Aug      </td><td>2001-2019</td><td>SeaHawk  </td><td> 6.557286</td></tr>\n",
       "\t<tr><td>Sep      </td><td>2001-2019</td><td>SeaHawk  </td><td> 6.057994</td></tr>\n",
       "\t<tr><td>Oct      </td><td>2001-2019</td><td>SeaHawk  </td><td>12.040164</td></tr>\n",
       "\t<tr><td>Nov      </td><td>2001-2019</td><td>SeaHawk  </td><td> 5.369271</td></tr>\n",
       "\t<tr><td>Dec      </td><td>2001-2019</td><td>SeaHawk  </td><td> 8.132666</td></tr>\n",
       "\t<tr><td>Jan      </td><td>2001-2019</td><td>Randall  </td><td>10.915324</td></tr>\n",
       "\t<tr><td>Feb      </td><td>2001-2019</td><td>Randall  </td><td> 5.148206</td></tr>\n",
       "\t<tr><td>Mar      </td><td>2001-2019</td><td>Randall  </td><td> 5.982370</td></tr>\n",
       "\t<tr><td>Apr      </td><td>2001-2019</td><td>Randall  </td><td> 6.179094</td></tr>\n",
       "\t<tr><td>May      </td><td>2001-2019</td><td>Randall  </td><td> 8.532295</td></tr>\n",
       "\t<tr><td>Jun      </td><td>2001-2019</td><td>Randall  </td><td> 6.132740</td></tr>\n",
       "\t<tr><td>Jul      </td><td>2001-2019</td><td>Randall  </td><td>14.437468</td></tr>\n",
       "\t<tr><td>Aug      </td><td>2001-2019</td><td>Randall  </td><td>11.269315</td></tr>\n",
       "\t<tr><td>Sep      </td><td>2001-2019</td><td>Randall  </td><td>15.059383</td></tr>\n",
       "\t<tr><td>Oct      </td><td>2001-2019</td><td>Randall  </td><td>10.124065</td></tr>\n",
       "\t<tr><td>Nov      </td><td>2001-2019</td><td>Randall  </td><td> 2.171475</td></tr>\n",
       "\t<tr><td>Dec      </td><td>2001-2019</td><td>Randall  </td><td>12.947003</td></tr>\n",
       "</tbody>\n",
       "</table>\n"
      ],
      "text/latex": [
       "\\begin{tabular}{r|llll}\n",
       " Month & Period & Lake & Rainfall\\_mm\\\\\n",
       "\\hline\n",
       "\t Jan       & 2001-2019 & SeaHawk   &  3.125990\\\\\n",
       "\t Feb       & 2001-2019 & SeaHawk   & 12.441331\\\\\n",
       "\t Mar       & 2001-2019 & SeaHawk   &  3.230104\\\\\n",
       "\t Apr       & 2001-2019 & SeaHawk   & 10.907835\\\\\n",
       "\t May       & 2001-2019 & SeaHawk   &  9.674827\\\\\n",
       "\t Jun       & 2001-2019 & SeaHawk   &  8.033946\\\\\n",
       "\t Jul       & 2001-2019 & SeaHawk   & 12.318558\\\\\n",
       "\t Aug       & 2001-2019 & SeaHawk   &  6.557286\\\\\n",
       "\t Sep       & 2001-2019 & SeaHawk   &  6.057994\\\\\n",
       "\t Oct       & 2001-2019 & SeaHawk   & 12.040164\\\\\n",
       "\t Nov       & 2001-2019 & SeaHawk   &  5.369271\\\\\n",
       "\t Dec       & 2001-2019 & SeaHawk   &  8.132666\\\\\n",
       "\t Jan       & 2001-2019 & Randall   & 10.915324\\\\\n",
       "\t Feb       & 2001-2019 & Randall   &  5.148206\\\\\n",
       "\t Mar       & 2001-2019 & Randall   &  5.982370\\\\\n",
       "\t Apr       & 2001-2019 & Randall   &  6.179094\\\\\n",
       "\t May       & 2001-2019 & Randall   &  8.532295\\\\\n",
       "\t Jun       & 2001-2019 & Randall   &  6.132740\\\\\n",
       "\t Jul       & 2001-2019 & Randall   & 14.437468\\\\\n",
       "\t Aug       & 2001-2019 & Randall   & 11.269315\\\\\n",
       "\t Sep       & 2001-2019 & Randall   & 15.059383\\\\\n",
       "\t Oct       & 2001-2019 & Randall   & 10.124065\\\\\n",
       "\t Nov       & 2001-2019 & Randall   &  2.171475\\\\\n",
       "\t Dec       & 2001-2019 & Randall   & 12.947003\\\\\n",
       "\\end{tabular}\n"
      ],
      "text/markdown": [
       "\n",
       "| Month | Period | Lake | Rainfall_mm |\n",
       "|---|---|---|---|\n",
       "| Jan       | 2001-2019 | SeaHawk   |  3.125990 |\n",
       "| Feb       | 2001-2019 | SeaHawk   | 12.441331 |\n",
       "| Mar       | 2001-2019 | SeaHawk   |  3.230104 |\n",
       "| Apr       | 2001-2019 | SeaHawk   | 10.907835 |\n",
       "| May       | 2001-2019 | SeaHawk   |  9.674827 |\n",
       "| Jun       | 2001-2019 | SeaHawk   |  8.033946 |\n",
       "| Jul       | 2001-2019 | SeaHawk   | 12.318558 |\n",
       "| Aug       | 2001-2019 | SeaHawk   |  6.557286 |\n",
       "| Sep       | 2001-2019 | SeaHawk   |  6.057994 |\n",
       "| Oct       | 2001-2019 | SeaHawk   | 12.040164 |\n",
       "| Nov       | 2001-2019 | SeaHawk   |  5.369271 |\n",
       "| Dec       | 2001-2019 | SeaHawk   |  8.132666 |\n",
       "| Jan       | 2001-2019 | Randall   | 10.915324 |\n",
       "| Feb       | 2001-2019 | Randall   |  5.148206 |\n",
       "| Mar       | 2001-2019 | Randall   |  5.982370 |\n",
       "| Apr       | 2001-2019 | Randall   |  6.179094 |\n",
       "| May       | 2001-2019 | Randall   |  8.532295 |\n",
       "| Jun       | 2001-2019 | Randall   |  6.132740 |\n",
       "| Jul       | 2001-2019 | Randall   | 14.437468 |\n",
       "| Aug       | 2001-2019 | Randall   | 11.269315 |\n",
       "| Sep       | 2001-2019 | Randall   | 15.059383 |\n",
       "| Oct       | 2001-2019 | Randall   | 10.124065 |\n",
       "| Nov       | 2001-2019 | Randall   |  2.171475 |\n",
       "| Dec       | 2001-2019 | Randall   | 12.947003 |\n",
       "\n"
      ],
      "text/plain": [
       "   Month Period    Lake    Rainfall_mm\n",
       "1  Jan   2001-2019 SeaHawk  3.125990  \n",
       "2  Feb   2001-2019 SeaHawk 12.441331  \n",
       "3  Mar   2001-2019 SeaHawk  3.230104  \n",
       "4  Apr   2001-2019 SeaHawk 10.907835  \n",
       "5  May   2001-2019 SeaHawk  9.674827  \n",
       "6  Jun   2001-2019 SeaHawk  8.033946  \n",
       "7  Jul   2001-2019 SeaHawk 12.318558  \n",
       "8  Aug   2001-2019 SeaHawk  6.557286  \n",
       "9  Sep   2001-2019 SeaHawk  6.057994  \n",
       "10 Oct   2001-2019 SeaHawk 12.040164  \n",
       "11 Nov   2001-2019 SeaHawk  5.369271  \n",
       "12 Dec   2001-2019 SeaHawk  8.132666  \n",
       "13 Jan   2001-2019 Randall 10.915324  \n",
       "14 Feb   2001-2019 Randall  5.148206  \n",
       "15 Mar   2001-2019 Randall  5.982370  \n",
       "16 Apr   2001-2019 Randall  6.179094  \n",
       "17 May   2001-2019 Randall  8.532295  \n",
       "18 Jun   2001-2019 Randall  6.132740  \n",
       "19 Jul   2001-2019 Randall 14.437468  \n",
       "20 Aug   2001-2019 Randall 11.269315  \n",
       "21 Sep   2001-2019 Randall 15.059383  \n",
       "22 Oct   2001-2019 Randall 10.124065  \n",
       "23 Nov   2001-2019 Randall  2.171475  \n",
       "24 Dec   2001-2019 Randall 12.947003  "
      ]
     },
     "metadata": {},
     "output_type": "display_data"
    }
   ],
   "source": [
    "library(tidyr)\n",
    "long_lake<-gather(data=lake_data,\"Lake\",\"Rainfall_mm\",3:4)\n",
    "long_lake"
   ]
  },
  {
   "cell_type": "markdown",
   "id": "8a51f8b0",
   "metadata": {},
   "source": [
    "Let's check for homogeneity of variance with the Levene's Test."
   ]
  },
  {
   "cell_type": "code",
   "execution_count": 11,
   "id": "6b5bd2a8",
   "metadata": {},
   "outputs": [
    {
     "name": "stderr",
     "output_type": "stream",
     "text": [
      "Warning message in leveneTest.default(y = y, group = group, ...):\n",
      "\"group coerced to factor.\""
     ]
    },
    {
     "data": {
      "text/html": [
       "<table>\n",
       "<thead><tr><th></th><th scope=col>Df</th><th scope=col>F value</th><th scope=col>Pr(&gt;F)</th></tr></thead>\n",
       "<tbody>\n",
       "\t<tr><th scope=row>group</th><td> 1       </td><td>0.6757906</td><td>0.4198607</td></tr>\n",
       "\t<tr><th scope=row> </th><td>22       </td><td>       NA</td><td>       NA</td></tr>\n",
       "</tbody>\n",
       "</table>\n"
      ],
      "text/latex": [
       "\\begin{tabular}{r|lll}\n",
       "  & Df & F value & Pr(>F)\\\\\n",
       "\\hline\n",
       "\tgroup &  1        & 0.6757906 & 0.4198607\\\\\n",
       "\t  & 22        &        NA &        NA\\\\\n",
       "\\end{tabular}\n"
      ],
      "text/markdown": [
       "\n",
       "| <!--/--> | Df | F value | Pr(>F) |\n",
       "|---|---|---|---|\n",
       "| group |  1        | 0.6757906 | 0.4198607 |\n",
       "|   | 22        |        NA |        NA |\n",
       "\n"
      ],
      "text/plain": [
       "      Df F value   Pr(>F)   \n",
       "group  1 0.6757906 0.4198607\n",
       "      22        NA        NA"
      ]
     },
     "metadata": {},
     "output_type": "display_data"
    }
   ],
   "source": [
    "HOV<-leveneTest(Rainfall_mm~Lake, center=mean, data=long_lake)\n",
    "HOV\n"
   ]
  },
  {
   "cell_type": "markdown",
   "id": "a131a4d0",
   "metadata": {},
   "source": [
    "A significant p-value on a Levene's test indicates that the variances of each group are significantly different from eachother. Thus, we do **not** want our p-value to be less than .05. If you look at the Pr(>F) column our p-value is greater than .05. Therefore we meet the assumption of homogeneity of variance and can proceed with our analysis. However, I will also discuss a correction that can be used if the homogeneity of variance assumption is violated."
   ]
  },
  {
   "cell_type": "markdown",
   "id": "d4dd3e2a",
   "metadata": {},
   "source": [
    "## Independent T-Test\n",
    "Let's run our t-test! Use the code below."
   ]
  },
  {
   "cell_type": "markdown",
   "id": "a119925d",
   "metadata": {},
   "source": [
    "lake_w_HOV<-t.test(Rainfall_mm~Lake, var.equal=TRUE, data=long_lake)\n",
    "lake_w_HOV"
   ]
  },
  {
   "cell_type": "markdown",
   "id": "a3e372a8",
   "metadata": {},
   "source": [
    "It looks like our p-value is 0.55. This indicates that there is no significant difference in the mean monthly rainfall for Lake Randall and Lake SeaHawk. Thus, we fail to reject our null hypothesis. The code below is for the Welch's t-test which corrects for unequal variance. You would use this test instead if your data violated the homogeneity of variance assumption."
   ]
  },
  {
   "cell_type": "code",
   "execution_count": 12,
   "id": "9e193fc1",
   "metadata": {},
   "outputs": [
    {
     "data": {
      "text/plain": [
       "\n",
       "\tWelch Two Sample t-test\n",
       "\n",
       "data:  Rainfall_mm by Lake\n",
       "t = 0.60471, df = 21.329, p-value = 0.5518\n",
       "alternative hypothesis: true difference in means is not equal to 0\n",
       "95 percent confidence interval:\n",
       " -2.234599  4.069393\n",
       "sample estimates:\n",
       "mean in group Randall mean in group SeaHawk \n",
       "             9.074895              8.157498 \n"
      ]
     },
     "metadata": {},
     "output_type": "display_data"
    }
   ],
   "source": [
    "lake_no_HOV<-t.test(Rainfall_mm~Lake, data=long_lake)\n",
    "lake_no_HOV"
   ]
  },
  {
   "cell_type": "markdown",
   "id": "7d6e136a",
   "metadata": {},
   "source": [
    "Unsurprisingly, the test results are the same because we did not violate the HOV assumption. However, it is important to use this correct when necessary."
   ]
  },
  {
   "cell_type": "markdown",
   "id": "893b8ec2",
   "metadata": {},
   "source": [
    "### Effect Size\n",
    "We are once again going to use Cohen's D for the measure of effect size even though the result was not significant. For this code I am going to use our original data which is in wide format."
   ]
  },
  {
   "cell_type": "code",
   "execution_count": 13,
   "id": "366d3b8d",
   "metadata": {},
   "outputs": [
    {
     "data": {
      "text/html": [
       "0.246871524226037"
      ],
      "text/latex": [
       "0.246871524226037"
      ],
      "text/markdown": [
       "0.246871524226037"
      ],
      "text/plain": [
       "[1] 0.2468715"
      ]
     },
     "metadata": {},
     "output_type": "display_data"
    }
   ],
   "source": [
    "independenttCD<-cohensD(lake_data$Randall, lake_data$SeaHawk, method=\"pooled\")\n",
    "independenttCD"
   ]
  },
  {
   "cell_type": "markdown",
   "id": "17fb86fe",
   "metadata": {},
   "source": [
    "As suspected, the Cohen's D test suggests a small effect size. "
   ]
  },
  {
   "cell_type": "markdown",
   "id": "d7bf8196",
   "metadata": {},
   "source": [
    "# Paired Samples T-Test\n",
    "\n",
    "The final t-test is the paired samples t-test. This is also called a dependent t-test or a related samples t-test because the assumption of independence is no longer needed. The two groups are related to eachother. This test is common in pre/post designs where the same subjects are tested at different time points. For example, a paired t-test would be appropriate if average monthly rainfall data was calculated for one lake in 2020 and measured again in 2021. Thus, the test would allow us to see if there was a significant difference in average monthly rainfall in 2020 compared to 2021. Let's read in some new data!"
   ]
  },
  {
   "cell_type": "code",
   "execution_count": 14,
   "id": "d518dc72",
   "metadata": {},
   "outputs": [
    {
     "data": {
      "text/html": [
       "<table>\n",
       "<thead><tr><th scope=col>year</th><th scope=col>month</th><th scope=col>rainfall_mm</th></tr></thead>\n",
       "<tbody>\n",
       "\t<tr><td>2020      </td><td>1         </td><td>  5.647385</td></tr>\n",
       "\t<tr><td>2020      </td><td>2         </td><td> 27.186771</td></tr>\n",
       "\t<tr><td>2020      </td><td>3         </td><td> 55.505624</td></tr>\n",
       "\t<tr><td>2020      </td><td>4         </td><td>  1.919519</td></tr>\n",
       "\t<tr><td>2020      </td><td>5         </td><td> 11.236393</td></tr>\n",
       "\t<tr><td>2020      </td><td>6         </td><td> 52.256103</td></tr>\n",
       "\t<tr><td>2020      </td><td>7         </td><td> 59.832627</td></tr>\n",
       "\t<tr><td>2020      </td><td>8         </td><td> 12.586680</td></tr>\n",
       "\t<tr><td>2020      </td><td>9         </td><td> 47.366872</td></tr>\n",
       "\t<tr><td>2020      </td><td>10        </td><td> 24.724103</td></tr>\n",
       "\t<tr><td>2020      </td><td>11        </td><td> 12.905138</td></tr>\n",
       "\t<tr><td>2020      </td><td>12        </td><td> 28.059708</td></tr>\n",
       "\t<tr><td>2021      </td><td>1         </td><td> 93.849514</td></tr>\n",
       "\t<tr><td>2021      </td><td>2         </td><td> 96.505384</td></tr>\n",
       "\t<tr><td>2021      </td><td>3         </td><td>108.568889</td></tr>\n",
       "\t<tr><td>2021      </td><td>4         </td><td>104.754431</td></tr>\n",
       "\t<tr><td>2021      </td><td>5         </td><td> 90.229946</td></tr>\n",
       "\t<tr><td>2021      </td><td>6         </td><td> 94.588361</td></tr>\n",
       "\t<tr><td>2021      </td><td>7         </td><td> 82.428635</td></tr>\n",
       "\t<tr><td>2021      </td><td>8         </td><td>117.216454</td></tr>\n",
       "\t<tr><td>2021      </td><td>9         </td><td> 82.236660</td></tr>\n",
       "\t<tr><td>2021      </td><td>10        </td><td>105.348053</td></tr>\n",
       "\t<tr><td>2021      </td><td>11        </td><td>112.862754</td></tr>\n",
       "\t<tr><td>2021      </td><td>12        </td><td>101.902190</td></tr>\n",
       "</tbody>\n",
       "</table>\n"
      ],
      "text/latex": [
       "\\begin{tabular}{r|lll}\n",
       " year & month & rainfall\\_mm\\\\\n",
       "\\hline\n",
       "\t 2020       & 1          &   5.647385\\\\\n",
       "\t 2020       & 2          &  27.186771\\\\\n",
       "\t 2020       & 3          &  55.505624\\\\\n",
       "\t 2020       & 4          &   1.919519\\\\\n",
       "\t 2020       & 5          &  11.236393\\\\\n",
       "\t 2020       & 6          &  52.256103\\\\\n",
       "\t 2020       & 7          &  59.832627\\\\\n",
       "\t 2020       & 8          &  12.586680\\\\\n",
       "\t 2020       & 9          &  47.366872\\\\\n",
       "\t 2020       & 10         &  24.724103\\\\\n",
       "\t 2020       & 11         &  12.905138\\\\\n",
       "\t 2020       & 12         &  28.059708\\\\\n",
       "\t 2021       & 1          &  93.849514\\\\\n",
       "\t 2021       & 2          &  96.505384\\\\\n",
       "\t 2021       & 3          & 108.568889\\\\\n",
       "\t 2021       & 4          & 104.754431\\\\\n",
       "\t 2021       & 5          &  90.229946\\\\\n",
       "\t 2021       & 6          &  94.588361\\\\\n",
       "\t 2021       & 7          &  82.428635\\\\\n",
       "\t 2021       & 8          & 117.216454\\\\\n",
       "\t 2021       & 9          &  82.236660\\\\\n",
       "\t 2021       & 10         & 105.348053\\\\\n",
       "\t 2021       & 11         & 112.862754\\\\\n",
       "\t 2021       & 12         & 101.902190\\\\\n",
       "\\end{tabular}\n"
      ],
      "text/markdown": [
       "\n",
       "| year | month | rainfall_mm |\n",
       "|---|---|---|\n",
       "| 2020       | 1          |   5.647385 |\n",
       "| 2020       | 2          |  27.186771 |\n",
       "| 2020       | 3          |  55.505624 |\n",
       "| 2020       | 4          |   1.919519 |\n",
       "| 2020       | 5          |  11.236393 |\n",
       "| 2020       | 6          |  52.256103 |\n",
       "| 2020       | 7          |  59.832627 |\n",
       "| 2020       | 8          |  12.586680 |\n",
       "| 2020       | 9          |  47.366872 |\n",
       "| 2020       | 10         |  24.724103 |\n",
       "| 2020       | 11         |  12.905138 |\n",
       "| 2020       | 12         |  28.059708 |\n",
       "| 2021       | 1          |  93.849514 |\n",
       "| 2021       | 2          |  96.505384 |\n",
       "| 2021       | 3          | 108.568889 |\n",
       "| 2021       | 4          | 104.754431 |\n",
       "| 2021       | 5          |  90.229946 |\n",
       "| 2021       | 6          |  94.588361 |\n",
       "| 2021       | 7          |  82.428635 |\n",
       "| 2021       | 8          | 117.216454 |\n",
       "| 2021       | 9          |  82.236660 |\n",
       "| 2021       | 10         | 105.348053 |\n",
       "| 2021       | 11         | 112.862754 |\n",
       "| 2021       | 12         | 101.902190 |\n",
       "\n"
      ],
      "text/plain": [
       "   year month rainfall_mm\n",
       "1  2020 1       5.647385 \n",
       "2  2020 2      27.186771 \n",
       "3  2020 3      55.505624 \n",
       "4  2020 4       1.919519 \n",
       "5  2020 5      11.236393 \n",
       "6  2020 6      52.256103 \n",
       "7  2020 7      59.832627 \n",
       "8  2020 8      12.586680 \n",
       "9  2020 9      47.366872 \n",
       "10 2020 10     24.724103 \n",
       "11 2020 11     12.905138 \n",
       "12 2020 12     28.059708 \n",
       "13 2021 1      93.849514 \n",
       "14 2021 2      96.505384 \n",
       "15 2021 3     108.568889 \n",
       "16 2021 4     104.754431 \n",
       "17 2021 5      90.229946 \n",
       "18 2021 6      94.588361 \n",
       "19 2021 7      82.428635 \n",
       "20 2021 8     117.216454 \n",
       "21 2021 9      82.236660 \n",
       "22 2021 10    105.348053 \n",
       "23 2021 11    112.862754 \n",
       "24 2021 12    101.902190 "
      ]
     },
     "metadata": {},
     "output_type": "display_data"
    }
   ],
   "source": [
    "pre_post<-read.table(\"pre_post_lake.txt\")\n",
    "pre_post$month<-as.factor(pre_post$month)\n",
    "pre_post$year<-factor(pre_post$year, levels=c(1:2),labels=c(\"2020\",\"2021\"))\n",
    "pre_post"
   ]
  },
  {
   "cell_type": "markdown",
   "id": "0c1bc18d",
   "metadata": {},
   "source": [
    "You additionally want to ensure that both groups are normally distributed using the shapiro-wilks test. I've already checked this assumption and we are all set to continue with the analysis. Before we begin, unlike the independent sample t-test, the data needs to be in wide format. We need a column for each group. Just like you learned in module four, we should use the spread function."
   ]
  },
  {
   "cell_type": "code",
   "execution_count": 15,
   "id": "da8c5f6b",
   "metadata": {
    "scrolled": false
   },
   "outputs": [
    {
     "data": {
      "text/html": [
       "<table>\n",
       "<thead><tr><th scope=col>month</th><th scope=col>time_one</th><th scope=col>time_two</th></tr></thead>\n",
       "<tbody>\n",
       "\t<tr><td>1        </td><td> 5.647385</td><td> 93.84951</td></tr>\n",
       "\t<tr><td>2        </td><td>27.186771</td><td> 96.50538</td></tr>\n",
       "\t<tr><td>3        </td><td>55.505624</td><td>108.56889</td></tr>\n",
       "\t<tr><td>4        </td><td> 1.919519</td><td>104.75443</td></tr>\n",
       "\t<tr><td>5        </td><td>11.236393</td><td> 90.22995</td></tr>\n",
       "\t<tr><td>6        </td><td>52.256103</td><td> 94.58836</td></tr>\n",
       "\t<tr><td>7        </td><td>59.832627</td><td> 82.42864</td></tr>\n",
       "\t<tr><td>8        </td><td>12.586680</td><td>117.21645</td></tr>\n",
       "\t<tr><td>9        </td><td>47.366872</td><td> 82.23666</td></tr>\n",
       "\t<tr><td>10       </td><td>24.724103</td><td>105.34805</td></tr>\n",
       "\t<tr><td>11       </td><td>12.905138</td><td>112.86275</td></tr>\n",
       "\t<tr><td>12       </td><td>28.059708</td><td>101.90219</td></tr>\n",
       "</tbody>\n",
       "</table>\n"
      ],
      "text/latex": [
       "\\begin{tabular}{r|lll}\n",
       " month & time\\_one & time\\_two\\\\\n",
       "\\hline\n",
       "\t 1         &  5.647385 &  93.84951\\\\\n",
       "\t 2         & 27.186771 &  96.50538\\\\\n",
       "\t 3         & 55.505624 & 108.56889\\\\\n",
       "\t 4         &  1.919519 & 104.75443\\\\\n",
       "\t 5         & 11.236393 &  90.22995\\\\\n",
       "\t 6         & 52.256103 &  94.58836\\\\\n",
       "\t 7         & 59.832627 &  82.42864\\\\\n",
       "\t 8         & 12.586680 & 117.21645\\\\\n",
       "\t 9         & 47.366872 &  82.23666\\\\\n",
       "\t 10        & 24.724103 & 105.34805\\\\\n",
       "\t 11        & 12.905138 & 112.86275\\\\\n",
       "\t 12        & 28.059708 & 101.90219\\\\\n",
       "\\end{tabular}\n"
      ],
      "text/markdown": [
       "\n",
       "| month | time_one | time_two |\n",
       "|---|---|---|\n",
       "| 1         |  5.647385 |  93.84951 |\n",
       "| 2         | 27.186771 |  96.50538 |\n",
       "| 3         | 55.505624 | 108.56889 |\n",
       "| 4         |  1.919519 | 104.75443 |\n",
       "| 5         | 11.236393 |  90.22995 |\n",
       "| 6         | 52.256103 |  94.58836 |\n",
       "| 7         | 59.832627 |  82.42864 |\n",
       "| 8         | 12.586680 | 117.21645 |\n",
       "| 9         | 47.366872 |  82.23666 |\n",
       "| 10        | 24.724103 | 105.34805 |\n",
       "| 11        | 12.905138 | 112.86275 |\n",
       "| 12        | 28.059708 | 101.90219 |\n",
       "\n"
      ],
      "text/plain": [
       "   month time_one  time_two \n",
       "1  1      5.647385  93.84951\n",
       "2  2     27.186771  96.50538\n",
       "3  3     55.505624 108.56889\n",
       "4  4      1.919519 104.75443\n",
       "5  5     11.236393  90.22995\n",
       "6  6     52.256103  94.58836\n",
       "7  7     59.832627  82.42864\n",
       "8  8     12.586680 117.21645\n",
       "9  9     47.366872  82.23666\n",
       "10 10    24.724103 105.34805\n",
       "11 11    12.905138 112.86275\n",
       "12 12    28.059708 101.90219"
      ]
     },
     "metadata": {},
     "output_type": "display_data"
    }
   ],
   "source": [
    "pre_post<-spread(pre_post, key=\"year\", value=\"rainfall_mm\")\n",
    "names<-c(\"month\",\"time_one\",\"time_two\")\n",
    "names(pre_post)<-names\n",
    "pre_post"
   ]
  },
  {
   "cell_type": "markdown",
   "id": "da1f1c5f",
   "metadata": {},
   "source": [
    "### Paired T-Test"
   ]
  },
  {
   "cell_type": "code",
   "execution_count": 16,
   "id": "3aa1e070",
   "metadata": {},
   "outputs": [
    {
     "data": {
      "text/plain": [
       "\n",
       "\tPaired t-test\n",
       "\n",
       "data:  pre_post$time_one and pre_post$time_two\n",
       "t = -8.9796, df = 11, p-value = 2.143e-06\n",
       "alternative hypothesis: true difference in means is not equal to 0\n",
       "95 percent confidence interval:\n",
       " -88.32652 -53.55087\n",
       "sample estimates:\n",
       "mean of the differences \n",
       "               -70.9387 \n"
      ]
     },
     "metadata": {},
     "output_type": "display_data"
    }
   ],
   "source": [
    "pairedt<-t.test(pre_post$time_one,pre_post$time_two,paired=TRUE)\n",
    "pairedt"
   ]
  },
  {
   "cell_type": "markdown",
   "id": "87bdaf08",
   "metadata": {},
   "source": [
    "Taking a look at our p-value, it is less than .05 suggesting a signficant difference in rainfall between the two time points. We can reject the null hypothesis."
   ]
  },
  {
   "cell_type": "markdown",
   "id": "1eb8572f",
   "metadata": {},
   "source": [
    "### Effect Size"
   ]
  },
  {
   "cell_type": "markdown",
   "id": "9f6f3980",
   "metadata": {},
   "source": [
    "Just like our other tests, we are going to use Cohen's D as the measure of effect size. "
   ]
  },
  {
   "cell_type": "code",
   "execution_count": 17,
   "id": "78a3b8ef",
   "metadata": {},
   "outputs": [
    {
     "data": {
      "text/html": [
       "2.59217510960909"
      ],
      "text/latex": [
       "2.59217510960909"
      ],
      "text/markdown": [
       "2.59217510960909"
      ],
      "text/plain": [
       "[1] 2.592175"
      ]
     },
     "metadata": {},
     "output_type": "display_data"
    }
   ],
   "source": [
    "pairedtcohensd<- cohensD(pre_post$time_two, pre_post$time_one, method = \"paired\")\n",
    "pairedtcohensd"
   ]
  }
 ],
 "metadata": {
  "kernelspec": {
   "display_name": "R",
   "language": "R",
   "name": "ir"
  },
  "language_info": {
   "codemirror_mode": "r",
   "file_extension": ".r",
   "mimetype": "text/x-r-source",
   "name": "R",
   "pygments_lexer": "r",
   "version": "3.6.1"
  }
 },
 "nbformat": 4,
 "nbformat_minor": 5
}
