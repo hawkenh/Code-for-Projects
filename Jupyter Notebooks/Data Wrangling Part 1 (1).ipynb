{
 "cells": [
  {
   "cell_type": "markdown",
   "id": "50491507",
   "metadata": {},
   "source": [
    "# Module 4: Data Wrangling Part 1\n",
    "## How to Clean and Manipulate your Data in R\n",
    "## Hawken Hass\n",
    "## University of North Carolina Wilmington"
   ]
  },
  {
   "cell_type": "markdown",
   "id": "9ca2e8c1",
   "metadata": {},
   "source": [
    "# Cleaning Your Data\n",
    "Cleaning your data is an essential part of data analysis. Before you can run any analysis your data must be structured in a certain way. This will ensure that your analyses will run smoothly in any program. First, let's take a look at some messy data. This data file summarizes average monthly rainfall between the years of 2001 and 2019 in two different lakes: Lake Victoria and Lake Simiyu."
   ]
  },
  {
   "cell_type": "code",
   "execution_count": 7,
   "id": "014ae343",
   "metadata": {},
   "outputs": [
    {
     "name": "stderr",
     "output_type": "stream",
     "text": [
      "New names:\n",
      "* `` -> ...2\n",
      "* `` -> ...3\n"
     ]
    },
    {
     "data": {
      "text/html": [
       "<table>\n",
       "<thead><tr><th scope=col>Seasonal rainfall in Lake Victoria and Simiyu</th><th scope=col>...2</th><th scope=col>...3</th></tr></thead>\n",
       "<tbody>\n",
       "\t<tr><td>NA           </td><td>NA           </td><td>NA           </td></tr>\n",
       "\t<tr><td>Month, period</td><td>Lake Victoria</td><td>Simiyu       </td></tr>\n",
       "\t<tr><td>Jan,2001-2019</td><td>3.176mm      </td><td>2.908473684  </td></tr>\n",
       "\t<tr><td>Feb,2001-2019</td><td>3.477mm      </td><td>1.8mm        </td></tr>\n",
       "\t<tr><td>Mar,2001-2019</td><td>4.687052632  </td><td>2.981052632  </td></tr>\n",
       "\t<tr><td>Apr,2001-2019</td><td>7.004526316  </td><td>4.753578947  </td></tr>\n",
       "\t<tr><td>May,2001-2019</td><td>9.362789474  </td><td>4.077473684  </td></tr>\n",
       "\t<tr><td>Jun,2001-2019</td><td>3.430210526  </td><td>1.046947368  </td></tr>\n",
       "\t<tr><td>Jul,2001-2019</td><td>1.764421053  </td><td>0.1952105263 </td></tr>\n",
       "\t<tr><td>Aug,2001-2019</td><td>2.812631579  </td><td>0.3336315789 </td></tr>\n",
       "\t<tr><td>Sep,2001-2019</td><td>3.978894737  </td><td>1.205842105  </td></tr>\n",
       "\t<tr><td>Oct,2001-2019</td><td>5.318421053  </td><td>2.454736842  </td></tr>\n",
       "\t<tr><td>Nov,2001-2019</td><td>5.118473684  </td><td>3.091421053  </td></tr>\n",
       "\t<tr><td>Dec,2001-2019</td><td>4.168105263  </td><td>3.890052632  </td></tr>\n",
       "</tbody>\n",
       "</table>\n"
      ],
      "text/latex": [
       "\\begin{tabular}{r|lll}\n",
       " Seasonal rainfall in Lake Victoria and Simiyu & ...2 & ...3\\\\\n",
       "\\hline\n",
       "\t NA            & NA            & NA           \\\\\n",
       "\t Month, period & Lake Victoria & Simiyu       \\\\\n",
       "\t Jan,2001-2019 & 3.176mm       & 2.908473684  \\\\\n",
       "\t Feb,2001-2019 & 3.477mm       & 1.8mm        \\\\\n",
       "\t Mar,2001-2019 & 4.687052632   & 2.981052632  \\\\\n",
       "\t Apr,2001-2019 & 7.004526316   & 4.753578947  \\\\\n",
       "\t May,2001-2019 & 9.362789474   & 4.077473684  \\\\\n",
       "\t Jun,2001-2019 & 3.430210526   & 1.046947368  \\\\\n",
       "\t Jul,2001-2019 & 1.764421053   & 0.1952105263 \\\\\n",
       "\t Aug,2001-2019 & 2.812631579   & 0.3336315789 \\\\\n",
       "\t Sep,2001-2019 & 3.978894737   & 1.205842105  \\\\\n",
       "\t Oct,2001-2019 & 5.318421053   & 2.454736842  \\\\\n",
       "\t Nov,2001-2019 & 5.118473684   & 3.091421053  \\\\\n",
       "\t Dec,2001-2019 & 4.168105263   & 3.890052632  \\\\\n",
       "\\end{tabular}\n"
      ],
      "text/markdown": [
       "\n",
       "| Seasonal rainfall in Lake Victoria and Simiyu | ...2 | ...3 |\n",
       "|---|---|---|\n",
       "| NA            | NA            | NA            |\n",
       "| Month, period | Lake Victoria | Simiyu        |\n",
       "| Jan,2001-2019 | 3.176mm       | 2.908473684   |\n",
       "| Feb,2001-2019 | 3.477mm       | 1.8mm         |\n",
       "| Mar,2001-2019 | 4.687052632   | 2.981052632   |\n",
       "| Apr,2001-2019 | 7.004526316   | 4.753578947   |\n",
       "| May,2001-2019 | 9.362789474   | 4.077473684   |\n",
       "| Jun,2001-2019 | 3.430210526   | 1.046947368   |\n",
       "| Jul,2001-2019 | 1.764421053   | 0.1952105263  |\n",
       "| Aug,2001-2019 | 2.812631579   | 0.3336315789  |\n",
       "| Sep,2001-2019 | 3.978894737   | 1.205842105   |\n",
       "| Oct,2001-2019 | 5.318421053   | 2.454736842   |\n",
       "| Nov,2001-2019 | 5.118473684   | 3.091421053   |\n",
       "| Dec,2001-2019 | 4.168105263   | 3.890052632   |\n",
       "\n"
      ],
      "text/plain": [
       "   Seasonal rainfall in Lake Victoria and Simiyu ...2          ...3        \n",
       "1  NA                                            NA            NA          \n",
       "2  Month, period                                 Lake Victoria Simiyu      \n",
       "3  Jan,2001-2019                                 3.176mm       2.908473684 \n",
       "4  Feb,2001-2019                                 3.477mm       1.8mm       \n",
       "5  Mar,2001-2019                                 4.687052632   2.981052632 \n",
       "6  Apr,2001-2019                                 7.004526316   4.753578947 \n",
       "7  May,2001-2019                                 9.362789474   4.077473684 \n",
       "8  Jun,2001-2019                                 3.430210526   1.046947368 \n",
       "9  Jul,2001-2019                                 1.764421053   0.1952105263\n",
       "10 Aug,2001-2019                                 2.812631579   0.3336315789\n",
       "11 Sep,2001-2019                                 3.978894737   1.205842105 \n",
       "12 Oct,2001-2019                                 5.318421053   2.454736842 \n",
       "13 Nov,2001-2019                                 5.118473684   3.091421053 \n",
       "14 Dec,2001-2019                                 4.168105263   3.890052632 "
      ]
     },
     "metadata": {},
     "output_type": "display_data"
    }
   ],
   "source": [
    "library(readxl)\n",
    "read_excel(\"messy-data.xlsx\")"
   ]
  },
  {
   "cell_type": "markdown",
   "id": "e28c2085",
   "metadata": {},
   "source": [
    "You can see there are a few things wrong with this data set.\n",
    "\n",
    "- The column headers are not accurate\n",
    "- There is no data in row one\n",
    "- The headers are in row two\n",
    "- The month and period columns are combined into one column\n",
    "- The total rainfall for each lake is rounded to different decimal points in some rows\n",
    "- Some rows have characters (mm) while others do not\n",
    "- The data is in wide format\n",
    "\n",
    "Clearly this data set needs some serious tidying. But first, what does a tidy data set look like?"
   ]
  },
  {
   "cell_type": "markdown",
   "id": "324415cf",
   "metadata": {},
   "source": [
    "## Tidy Data\n",
    "\n",
    "A tidy data set has two key features:\n",
    "\n",
    "- Each variable is saved in its own column \n",
    "- Each variable is saved in its own row\n",
    "\n",
    "This structure is specifically called long format, in which each observation has its own row. For example, in our data set there are 12 observations of rainfall for each lake. Therefore, we need 24 rows in our data set. Additionally, each variable needs to be saved in its own column. Thus, we need to create a column that denotes which group (Lake Victoria or Lake Simiyu) each observation belongs to. The data frame below shows what this data will look like once it is cleaned."
   ]
  },
  {
   "cell_type": "code",
   "execution_count": 8,
   "id": "a801e549",
   "metadata": {},
   "outputs": [
    {
     "data": {
      "text/html": [
       "<table>\n",
       "<thead><tr><th scope=col>Month</th><th scope=col>Period</th><th scope=col>Lake</th><th scope=col>Rainfall_mm</th></tr></thead>\n",
       "<tbody>\n",
       "\t<tr><td>Jan      </td><td>2001-2019</td><td>Victoria </td><td>3.18     </td></tr>\n",
       "\t<tr><td>Feb      </td><td>2001-2019</td><td>Victoria </td><td>3.48     </td></tr>\n",
       "\t<tr><td>Mar      </td><td>2001-2019</td><td>Victoria </td><td>4.69     </td></tr>\n",
       "\t<tr><td>Apr      </td><td>2001-2019</td><td>Victoria </td><td>7.00     </td></tr>\n",
       "\t<tr><td>May      </td><td>2001-2019</td><td>Victoria </td><td>9.36     </td></tr>\n",
       "\t<tr><td>Jun      </td><td>2001-2019</td><td>Victoria </td><td>3.43     </td></tr>\n",
       "\t<tr><td>Jul      </td><td>2001-2019</td><td>Victoria </td><td>1.76     </td></tr>\n",
       "\t<tr><td>Aug      </td><td>2001-2019</td><td>Victoria </td><td>2.81     </td></tr>\n",
       "\t<tr><td>Sep      </td><td>2001-2019</td><td>Victoria </td><td>3.98     </td></tr>\n",
       "\t<tr><td>Oct      </td><td>2001-2019</td><td>Victoria </td><td>5.32     </td></tr>\n",
       "\t<tr><td>Nov      </td><td>2001-2019</td><td>Victoria </td><td>5.12     </td></tr>\n",
       "\t<tr><td>Dec      </td><td>2001-2019</td><td>Victoria </td><td>4.17     </td></tr>\n",
       "\t<tr><td>Jan      </td><td>2001-2019</td><td>Simiyu   </td><td>2.91     </td></tr>\n",
       "\t<tr><td>Feb      </td><td>2001-2019</td><td>Simiyu   </td><td>1.80     </td></tr>\n",
       "\t<tr><td>Mar      </td><td>2001-2019</td><td>Simiyu   </td><td>2.98     </td></tr>\n",
       "\t<tr><td>Apr      </td><td>2001-2019</td><td>Simiyu   </td><td>4.75     </td></tr>\n",
       "\t<tr><td>May      </td><td>2001-2019</td><td>Simiyu   </td><td>4.08     </td></tr>\n",
       "\t<tr><td>Jun      </td><td>2001-2019</td><td>Simiyu   </td><td>1.05     </td></tr>\n",
       "\t<tr><td>Jul      </td><td>2001-2019</td><td>Simiyu   </td><td>0.20     </td></tr>\n",
       "\t<tr><td>Aug      </td><td>2001-2019</td><td>Simiyu   </td><td>0.33     </td></tr>\n",
       "\t<tr><td>Sep      </td><td>2001-2019</td><td>Simiyu   </td><td>1.21     </td></tr>\n",
       "\t<tr><td>Oct      </td><td>2001-2019</td><td>Simiyu   </td><td>2.45     </td></tr>\n",
       "\t<tr><td>Nov      </td><td>2001-2019</td><td>Simiyu   </td><td>3.09     </td></tr>\n",
       "\t<tr><td>Dec      </td><td>2001-2019</td><td>Simiyu   </td><td>3.89     </td></tr>\n",
       "</tbody>\n",
       "</table>\n"
      ],
      "text/latex": [
       "\\begin{tabular}{r|llll}\n",
       " Month & Period & Lake & Rainfall\\_mm\\\\\n",
       "\\hline\n",
       "\t Jan       & 2001-2019 & Victoria  & 3.18     \\\\\n",
       "\t Feb       & 2001-2019 & Victoria  & 3.48     \\\\\n",
       "\t Mar       & 2001-2019 & Victoria  & 4.69     \\\\\n",
       "\t Apr       & 2001-2019 & Victoria  & 7.00     \\\\\n",
       "\t May       & 2001-2019 & Victoria  & 9.36     \\\\\n",
       "\t Jun       & 2001-2019 & Victoria  & 3.43     \\\\\n",
       "\t Jul       & 2001-2019 & Victoria  & 1.76     \\\\\n",
       "\t Aug       & 2001-2019 & Victoria  & 2.81     \\\\\n",
       "\t Sep       & 2001-2019 & Victoria  & 3.98     \\\\\n",
       "\t Oct       & 2001-2019 & Victoria  & 5.32     \\\\\n",
       "\t Nov       & 2001-2019 & Victoria  & 5.12     \\\\\n",
       "\t Dec       & 2001-2019 & Victoria  & 4.17     \\\\\n",
       "\t Jan       & 2001-2019 & Simiyu    & 2.91     \\\\\n",
       "\t Feb       & 2001-2019 & Simiyu    & 1.80     \\\\\n",
       "\t Mar       & 2001-2019 & Simiyu    & 2.98     \\\\\n",
       "\t Apr       & 2001-2019 & Simiyu    & 4.75     \\\\\n",
       "\t May       & 2001-2019 & Simiyu    & 4.08     \\\\\n",
       "\t Jun       & 2001-2019 & Simiyu    & 1.05     \\\\\n",
       "\t Jul       & 2001-2019 & Simiyu    & 0.20     \\\\\n",
       "\t Aug       & 2001-2019 & Simiyu    & 0.33     \\\\\n",
       "\t Sep       & 2001-2019 & Simiyu    & 1.21     \\\\\n",
       "\t Oct       & 2001-2019 & Simiyu    & 2.45     \\\\\n",
       "\t Nov       & 2001-2019 & Simiyu    & 3.09     \\\\\n",
       "\t Dec       & 2001-2019 & Simiyu    & 3.89     \\\\\n",
       "\\end{tabular}\n"
      ],
      "text/markdown": [
       "\n",
       "| Month | Period | Lake | Rainfall_mm |\n",
       "|---|---|---|---|\n",
       "| Jan       | 2001-2019 | Victoria  | 3.18      |\n",
       "| Feb       | 2001-2019 | Victoria  | 3.48      |\n",
       "| Mar       | 2001-2019 | Victoria  | 4.69      |\n",
       "| Apr       | 2001-2019 | Victoria  | 7.00      |\n",
       "| May       | 2001-2019 | Victoria  | 9.36      |\n",
       "| Jun       | 2001-2019 | Victoria  | 3.43      |\n",
       "| Jul       | 2001-2019 | Victoria  | 1.76      |\n",
       "| Aug       | 2001-2019 | Victoria  | 2.81      |\n",
       "| Sep       | 2001-2019 | Victoria  | 3.98      |\n",
       "| Oct       | 2001-2019 | Victoria  | 5.32      |\n",
       "| Nov       | 2001-2019 | Victoria  | 5.12      |\n",
       "| Dec       | 2001-2019 | Victoria  | 4.17      |\n",
       "| Jan       | 2001-2019 | Simiyu    | 2.91      |\n",
       "| Feb       | 2001-2019 | Simiyu    | 1.80      |\n",
       "| Mar       | 2001-2019 | Simiyu    | 2.98      |\n",
       "| Apr       | 2001-2019 | Simiyu    | 4.75      |\n",
       "| May       | 2001-2019 | Simiyu    | 4.08      |\n",
       "| Jun       | 2001-2019 | Simiyu    | 1.05      |\n",
       "| Jul       | 2001-2019 | Simiyu    | 0.20      |\n",
       "| Aug       | 2001-2019 | Simiyu    | 0.33      |\n",
       "| Sep       | 2001-2019 | Simiyu    | 1.21      |\n",
       "| Oct       | 2001-2019 | Simiyu    | 2.45      |\n",
       "| Nov       | 2001-2019 | Simiyu    | 3.09      |\n",
       "| Dec       | 2001-2019 | Simiyu    | 3.89      |\n",
       "\n"
      ],
      "text/plain": [
       "   Month Period    Lake     Rainfall_mm\n",
       "1  Jan   2001-2019 Victoria 3.18       \n",
       "2  Feb   2001-2019 Victoria 3.48       \n",
       "3  Mar   2001-2019 Victoria 4.69       \n",
       "4  Apr   2001-2019 Victoria 7.00       \n",
       "5  May   2001-2019 Victoria 9.36       \n",
       "6  Jun   2001-2019 Victoria 3.43       \n",
       "7  Jul   2001-2019 Victoria 1.76       \n",
       "8  Aug   2001-2019 Victoria 2.81       \n",
       "9  Sep   2001-2019 Victoria 3.98       \n",
       "10 Oct   2001-2019 Victoria 5.32       \n",
       "11 Nov   2001-2019 Victoria 5.12       \n",
       "12 Dec   2001-2019 Victoria 4.17       \n",
       "13 Jan   2001-2019 Simiyu   2.91       \n",
       "14 Feb   2001-2019 Simiyu   1.80       \n",
       "15 Mar   2001-2019 Simiyu   2.98       \n",
       "16 Apr   2001-2019 Simiyu   4.75       \n",
       "17 May   2001-2019 Simiyu   4.08       \n",
       "18 Jun   2001-2019 Simiyu   1.05       \n",
       "19 Jul   2001-2019 Simiyu   0.20       \n",
       "20 Aug   2001-2019 Simiyu   0.33       \n",
       "21 Sep   2001-2019 Simiyu   1.21       \n",
       "22 Oct   2001-2019 Simiyu   2.45       \n",
       "23 Nov   2001-2019 Simiyu   3.09       \n",
       "24 Dec   2001-2019 Simiyu   3.89       "
      ]
     },
     "metadata": {},
     "output_type": "display_data"
    }
   ],
   "source": [
    "read.table(\"clean_data.txt\")"
   ]
  },
  {
   "cell_type": "markdown",
   "id": "ad49ff13",
   "metadata": {},
   "source": [
    "This looks much better! You'll notice all rainfall observations are in one column and each observation has its own row. Additionally, we have a column denoting group membership. This data is ready for analysis. So how did I get here? We are going to use a package called \"tidyr\"."
   ]
  },
  {
   "cell_type": "markdown",
   "id": "11c2a833",
   "metadata": {},
   "source": [
    "## Cleaning using the tidyr package\n",
    "First, I am going to read in my data and activate the tidyr package."
   ]
  },
  {
   "cell_type": "code",
   "execution_count": 9,
   "id": "cea1d6e8",
   "metadata": {},
   "outputs": [
    {
     "name": "stderr",
     "output_type": "stream",
     "text": [
      "New names:\n",
      "* `` -> ...2\n",
      "* `` -> ...3\n"
     ]
    },
    {
     "name": "stdout",
     "output_type": "stream",
     "text": [
      "# A tibble: 14 x 3\n",
      "   `Seasonal rainfall in Lake Victoria and Simiyu` ...2          ...3        \n",
      "   <chr>                                           <chr>         <chr>       \n",
      " 1 <NA>                                            <NA>          <NA>        \n",
      " 2 Month, period                                   Lake Victoria Simiyu      \n",
      " 3 Jan,2001-2019                                   3.176mm       2.908473684 \n",
      " 4 Feb,2001-2019                                   3.477mm       1.8mm       \n",
      " 5 Mar,2001-2019                                   4.687052632   2.981052632 \n",
      " 6 Apr,2001-2019                                   7.004526316   4.753578947 \n",
      " 7 May,2001-2019                                   9.362789474   4.077473684 \n",
      " 8 Jun,2001-2019                                   3.430210526   1.046947368 \n",
      " 9 Jul,2001-2019                                   1.764421053   0.1952105263\n",
      "10 Aug,2001-2019                                   2.812631579   0.3336315789\n",
      "11 Sep,2001-2019                                   3.978894737   1.205842105 \n",
      "12 Oct,2001-2019                                   5.318421053   2.454736842 \n",
      "13 Nov,2001-2019                                   5.118473684   3.091421053 \n",
      "14 Dec,2001-2019                                   4.168105263   3.890052632 \n"
     ]
    }
   ],
   "source": [
    "library(tidyr)\n",
    "messy_data<-read_excel(\"messy-data.xlsx\")\n",
    "print(messy_data)"
   ]
  },
  {
   "cell_type": "markdown",
   "id": "83b28992",
   "metadata": {},
   "source": [
    "The first step I am going to take is to separate the Month and Period column. If you'll notice, the month and period are both in one column, and separated by a comma. It is important that in your data set all variables have their own column. Thus, we are going to use the separate function to separate this column into two."
   ]
  },
  {
   "cell_type": "code",
   "execution_count": 10,
   "id": "461d9f83",
   "metadata": {},
   "outputs": [
    {
     "name": "stdout",
     "output_type": "stream",
     "text": [
      "# A tibble: 14 x 4\n",
      "   Month Period    ...2          ...3        \n",
      "   <chr> <chr>     <chr>         <chr>       \n",
      " 1 <NA>  <NA>      <NA>          <NA>        \n",
      " 2 Month \" period\" Lake Victoria Simiyu      \n",
      " 3 Jan   2001-2019 3.176mm       2.908473684 \n",
      " 4 Feb   2001-2019 3.477mm       1.8mm       \n",
      " 5 Mar   2001-2019 4.687052632   2.981052632 \n",
      " 6 Apr   2001-2019 7.004526316   4.753578947 \n",
      " 7 May   2001-2019 9.362789474   4.077473684 \n",
      " 8 Jun   2001-2019 3.430210526   1.046947368 \n",
      " 9 Jul   2001-2019 1.764421053   0.1952105263\n",
      "10 Aug   2001-2019 2.812631579   0.3336315789\n",
      "11 Sep   2001-2019 3.978894737   1.205842105 \n",
      "12 Oct   2001-2019 5.318421053   2.454736842 \n",
      "13 Nov   2001-2019 5.118473684   3.091421053 \n",
      "14 Dec   2001-2019 4.168105263   3.890052632 \n"
     ]
    }
   ],
   "source": [
    "messy_data<-separate(messy_data, \"Seasonal rainfall in Lake Victoria and Simiyu\", c(\"Month\", \"Period\"), \",\")\n",
    "print(messy_data)"
   ]
  },
  {
   "cell_type": "markdown",
   "id": "0ee35dd8",
   "metadata": {},
   "source": [
    "The separate function uses the following arguments:\n",
    "- The first argument is your data file\n",
    "- The second argument is the new names of the new columns you want to create in a vector format\n",
    "- The third argument is how the two values are separate in the current column, in this case it is a comma\n"
   ]
  },
  {
   "cell_type": "markdown",
   "id": "714d3c91",
   "metadata": {},
   "source": [
    " Next, we are going to change the names of the columns to refelct more accurate names. This function will get rid of the \"..2\" and \"..3\" in columns 3 and 4. First, we are going to create a vector of all of our column names. Then assign these column names to our data file using the names function."
   ]
  },
  {
   "cell_type": "code",
   "execution_count": 11,
   "id": "ec9c9d72",
   "metadata": {},
   "outputs": [
    {
     "name": "stdout",
     "output_type": "stream",
     "text": [
      "# A tibble: 14 x 4\n",
      "   Month Period    Victoria      Simiyu      \n",
      "   <chr> <chr>     <chr>         <chr>       \n",
      " 1 <NA>  <NA>      <NA>          <NA>        \n",
      " 2 Month \" period\" Lake Victoria Simiyu      \n",
      " 3 Jan   2001-2019 3.176mm       2.908473684 \n",
      " 4 Feb   2001-2019 3.477mm       1.8mm       \n",
      " 5 Mar   2001-2019 4.687052632   2.981052632 \n",
      " 6 Apr   2001-2019 7.004526316   4.753578947 \n",
      " 7 May   2001-2019 9.362789474   4.077473684 \n",
      " 8 Jun   2001-2019 3.430210526   1.046947368 \n",
      " 9 Jul   2001-2019 1.764421053   0.1952105263\n",
      "10 Aug   2001-2019 2.812631579   0.3336315789\n",
      "11 Sep   2001-2019 3.978894737   1.205842105 \n",
      "12 Oct   2001-2019 5.318421053   2.454736842 \n",
      "13 Nov   2001-2019 5.118473684   3.091421053 \n",
      "14 Dec   2001-2019 4.168105263   3.890052632 \n"
     ]
    }
   ],
   "source": [
    "varname<-c(\"Month\", \"Period\", \"Victoria\", \"Simiyu\")\n",
    "names(messy_data)<-varname\n",
    "print(messy_data)"
   ]
  },
  {
   "cell_type": "markdown",
   "id": "c6be685d",
   "metadata": {},
   "source": [
    "The next step is to delete any missing data."
   ]
  },
  {
   "cell_type": "code",
   "execution_count": 12,
   "id": "cebcc2c9",
   "metadata": {},
   "outputs": [
    {
     "name": "stdout",
     "output_type": "stream",
     "text": [
      "# A tibble: 13 x 4\n",
      "   Month Period    Victoria      Simiyu      \n",
      "   <chr> <chr>     <chr>         <chr>       \n",
      " 1 Month \" period\" Lake Victoria Simiyu      \n",
      " 2 Jan   2001-2019 3.176mm       2.908473684 \n",
      " 3 Feb   2001-2019 3.477mm       1.8mm       \n",
      " 4 Mar   2001-2019 4.687052632   2.981052632 \n",
      " 5 Apr   2001-2019 7.004526316   4.753578947 \n",
      " 6 May   2001-2019 9.362789474   4.077473684 \n",
      " 7 Jun   2001-2019 3.430210526   1.046947368 \n",
      " 8 Jul   2001-2019 1.764421053   0.1952105263\n",
      " 9 Aug   2001-2019 2.812631579   0.3336315789\n",
      "10 Sep   2001-2019 3.978894737   1.205842105 \n",
      "11 Oct   2001-2019 5.318421053   2.454736842 \n",
      "12 Nov   2001-2019 5.118473684   3.091421053 \n",
      "13 Dec   2001-2019 4.168105263   3.890052632 \n"
     ]
    }
   ],
   "source": [
    "messy_data<-na.omit(messy_data)\n",
    "print(messy_data)"
   ]
  },
  {
   "cell_type": "markdown",
   "id": "403e4cb1",
   "metadata": {},
   "source": [
    "We also want to delete Row 1 because this row was the names of the columns in the excel file."
   ]
  },
  {
   "cell_type": "code",
   "execution_count": 13,
   "id": "7374111c",
   "metadata": {},
   "outputs": [
    {
     "name": "stdout",
     "output_type": "stream",
     "text": [
      "# A tibble: 12 x 4\n",
      "   Month Period    Victoria    Simiyu      \n",
      "   <chr> <chr>     <chr>       <chr>       \n",
      " 1 Jan   2001-2019 3.176mm     2.908473684 \n",
      " 2 Feb   2001-2019 3.477mm     1.8mm       \n",
      " 3 Mar   2001-2019 4.687052632 2.981052632 \n",
      " 4 Apr   2001-2019 7.004526316 4.753578947 \n",
      " 5 May   2001-2019 9.362789474 4.077473684 \n",
      " 6 Jun   2001-2019 3.430210526 1.046947368 \n",
      " 7 Jul   2001-2019 1.764421053 0.1952105263\n",
      " 8 Aug   2001-2019 2.812631579 0.3336315789\n",
      " 9 Sep   2001-2019 3.978894737 1.205842105 \n",
      "10 Oct   2001-2019 5.318421053 2.454736842 \n",
      "11 Nov   2001-2019 5.118473684 3.091421053 \n",
      "12 Dec   2001-2019 4.168105263 3.890052632 \n"
     ]
    }
   ],
   "source": [
    "messy_data<-messy_data[-c(1),]\n",
    "print(messy_data)"
   ]
  },
  {
   "cell_type": "markdown",
   "id": "18f0780b",
   "metadata": {},
   "source": [
    "The '-c' denotes that you want to delete a column or a row. If you wanted to delete mulitple rows you could type:\n",
    "\n",
    "```{r}\n",
    "[-c(1,2,3,4),]\n",
    "```\n",
    "The argument after the comma represents columns. If you wanted to delete column 1 you could type:\n",
    "\n",
    "```{r}\n",
    "[, -c(1)]\n",
    "```"
   ]
  },
  {
   "cell_type": "markdown",
   "id": "dbfbcb04",
   "metadata": {},
   "source": [
    "Next, we want to convert our data to the long format. In this case we want a column that denotes which lake the data point is from, and a column denoting how much rainfall. We want to make sure each group is paired with the correct data point. For this, we are going to be using the gather function. "
   ]
  },
  {
   "cell_type": "code",
   "execution_count": 14,
   "id": "9fffa751",
   "metadata": {},
   "outputs": [
    {
     "name": "stdout",
     "output_type": "stream",
     "text": [
      "# A tibble: 24 x 4\n",
      "   Month Period    Lake     Rainfall_mm\n",
      "   <chr> <chr>     <chr>    <chr>      \n",
      " 1 Jan   2001-2019 Victoria 3.176mm    \n",
      " 2 Feb   2001-2019 Victoria 3.477mm    \n",
      " 3 Mar   2001-2019 Victoria 4.687052632\n",
      " 4 Apr   2001-2019 Victoria 7.004526316\n",
      " 5 May   2001-2019 Victoria 9.362789474\n",
      " 6 Jun   2001-2019 Victoria 3.430210526\n",
      " 7 Jul   2001-2019 Victoria 1.764421053\n",
      " 8 Aug   2001-2019 Victoria 2.812631579\n",
      " 9 Sep   2001-2019 Victoria 3.978894737\n",
      "10 Oct   2001-2019 Victoria 5.318421053\n",
      "# ... with 14 more rows\n"
     ]
    }
   ],
   "source": [
    "messy_data<-gather(messy_data, key=\"Lake\", value=\"Rainfall_mm\", 3:4)\n",
    "print(messy_data)"
   ]
  },
  {
   "cell_type": "markdown",
   "id": "39d49a86",
   "metadata": {},
   "source": [
    "The gather function uses the following arguments:\n",
    "\n",
    "- The first argument is the data frame name\n",
    "- The second argument is the new name of the column you want to create for the grouping variable. I chose \"Lake\" because I want to take the names of each lake and repeat it in the column twelve times; the number of observations of rainfall for that lake.\n",
    "- The third argument is the name of the column for the value you want to pair with the grouping variable. I chose \"Rainfall_mm\" because that is the observation or data point I want to pair with each grouping variable.\n",
    "- The final argument is the range of columns you want to turn into key-value pairs"
   ]
  },
  {
   "cell_type": "markdown",
   "id": "517e53b5",
   "metadata": {},
   "source": [
    "Let's now remove some unnecessary characters. "
   ]
  },
  {
   "cell_type": "code",
   "execution_count": 15,
   "id": "bf416fe3",
   "metadata": {},
   "outputs": [
    {
     "name": "stdout",
     "output_type": "stream",
     "text": [
      "# A tibble: 24 x 4\n",
      "   Month Period    Lake     Rainfall_mm\n",
      "   <chr> <chr>     <chr>          <dbl>\n",
      " 1 Jan   2001-2019 Victoria        3.18\n",
      " 2 Feb   2001-2019 Victoria        3.48\n",
      " 3 Mar   2001-2019 Victoria        4.69\n",
      " 4 Apr   2001-2019 Victoria        7.00\n",
      " 5 May   2001-2019 Victoria        9.36\n",
      " 6 Jun   2001-2019 Victoria        3.43\n",
      " 7 Jul   2001-2019 Victoria        1.76\n",
      " 8 Aug   2001-2019 Victoria        2.81\n",
      " 9 Sep   2001-2019 Victoria        3.98\n",
      "10 Oct   2001-2019 Victoria        5.32\n",
      "# ... with 14 more rows\n"
     ]
    }
   ],
   "source": [
    "messy_data$Rainfall_mm<-gsub('mm', '',messy_data$Rainfall_mm)\n",
    "messy_data$Rainfall_mm<-as.numeric(messy_data$Rainfall_mm)\n",
    "print(messy_data)"
   ]
  },
  {
   "cell_type": "markdown",
   "id": "81d43014",
   "metadata": {},
   "source": [
    "The gsub function uses the following arguments:\n",
    "\n",
    "- The first argument is the string of characters you want to remove from each data point. I want to remove the \"mm: off the end data points that have it\n",
    "- The second argument denotes what you want to replace the \"mm\" character string with. In this case I put a space because I don't want anything to replace it\n",
    "- The final argument is the column you want to apply this function to\n",
    "\n",
    "When using the gsub function, the column is automatically converted to a character variable. Use the as.numeric function to convert the column back to a numeric variable."
   ]
  },
  {
   "cell_type": "markdown",
   "id": "fdbebec4",
   "metadata": {},
   "source": [
    "Finally, let's ensure that all observations in the rainfall column are rounded to the same decimal point."
   ]
  },
  {
   "cell_type": "code",
   "execution_count": 16,
   "id": "9ddfd090",
   "metadata": {},
   "outputs": [
    {
     "name": "stdout",
     "output_type": "stream",
     "text": [
      "# A tibble: 24 x 4\n",
      "   Month Period    Lake     Rainfall_mm\n",
      "   <chr> <chr>     <chr>          <dbl>\n",
      " 1 Jan   2001-2019 Victoria        3.18\n",
      " 2 Feb   2001-2019 Victoria        3.48\n",
      " 3 Mar   2001-2019 Victoria        4.69\n",
      " 4 Apr   2001-2019 Victoria        7   \n",
      " 5 May   2001-2019 Victoria        9.36\n",
      " 6 Jun   2001-2019 Victoria        3.43\n",
      " 7 Jul   2001-2019 Victoria        1.76\n",
      " 8 Aug   2001-2019 Victoria        2.81\n",
      " 9 Sep   2001-2019 Victoria        3.98\n",
      "10 Oct   2001-2019 Victoria        5.32\n",
      "# ... with 14 more rows\n"
     ]
    }
   ],
   "source": [
    "messy_data[,'Rainfall_mm']=round(messy_data[,'Rainfall_mm'],2)\n",
    "print(messy_data)"
   ]
  },
  {
   "cell_type": "markdown",
   "id": "a35615ca",
   "metadata": {},
   "source": [
    "Our data is clean now! Let's rename it \"clean data\""
   ]
  },
  {
   "cell_type": "code",
   "execution_count": 17,
   "id": "e2ba6456",
   "metadata": {},
   "outputs": [],
   "source": [
    "clean_data<-messy_data"
   ]
  },
  {
   "cell_type": "markdown",
   "id": "2e98acdb",
   "metadata": {},
   "source": [
    "To save it as new data file, use the write.table function. This will save the new version of your data file to your computer."
   ]
  },
  {
   "cell_type": "code",
   "execution_count": 18,
   "id": "586902c0",
   "metadata": {},
   "outputs": [
    {
     "data": {
      "text/html": [
       "<table>\n",
       "<thead><tr><th scope=col>Month</th><th scope=col>Period</th><th scope=col>Lake</th><th scope=col>Rainfall_mm</th></tr></thead>\n",
       "<tbody>\n",
       "\t<tr><td>Jan      </td><td>2001-2019</td><td>Victoria </td><td>3.18     </td></tr>\n",
       "\t<tr><td>Feb      </td><td>2001-2019</td><td>Victoria </td><td>3.48     </td></tr>\n",
       "\t<tr><td>Mar      </td><td>2001-2019</td><td>Victoria </td><td>4.69     </td></tr>\n",
       "\t<tr><td>Apr      </td><td>2001-2019</td><td>Victoria </td><td>7.00     </td></tr>\n",
       "\t<tr><td>May      </td><td>2001-2019</td><td>Victoria </td><td>9.36     </td></tr>\n",
       "\t<tr><td>Jun      </td><td>2001-2019</td><td>Victoria </td><td>3.43     </td></tr>\n",
       "\t<tr><td>Jul      </td><td>2001-2019</td><td>Victoria </td><td>1.76     </td></tr>\n",
       "\t<tr><td>Aug      </td><td>2001-2019</td><td>Victoria </td><td>2.81     </td></tr>\n",
       "\t<tr><td>Sep      </td><td>2001-2019</td><td>Victoria </td><td>3.98     </td></tr>\n",
       "\t<tr><td>Oct      </td><td>2001-2019</td><td>Victoria </td><td>5.32     </td></tr>\n",
       "\t<tr><td>Nov      </td><td>2001-2019</td><td>Victoria </td><td>5.12     </td></tr>\n",
       "\t<tr><td>Dec      </td><td>2001-2019</td><td>Victoria </td><td>4.17     </td></tr>\n",
       "\t<tr><td>Jan      </td><td>2001-2019</td><td>Simiyu   </td><td>2.91     </td></tr>\n",
       "\t<tr><td>Feb      </td><td>2001-2019</td><td>Simiyu   </td><td>1.80     </td></tr>\n",
       "\t<tr><td>Mar      </td><td>2001-2019</td><td>Simiyu   </td><td>2.98     </td></tr>\n",
       "\t<tr><td>Apr      </td><td>2001-2019</td><td>Simiyu   </td><td>4.75     </td></tr>\n",
       "\t<tr><td>May      </td><td>2001-2019</td><td>Simiyu   </td><td>4.08     </td></tr>\n",
       "\t<tr><td>Jun      </td><td>2001-2019</td><td>Simiyu   </td><td>1.05     </td></tr>\n",
       "\t<tr><td>Jul      </td><td>2001-2019</td><td>Simiyu   </td><td>0.20     </td></tr>\n",
       "\t<tr><td>Aug      </td><td>2001-2019</td><td>Simiyu   </td><td>0.33     </td></tr>\n",
       "\t<tr><td>Sep      </td><td>2001-2019</td><td>Simiyu   </td><td>1.21     </td></tr>\n",
       "\t<tr><td>Oct      </td><td>2001-2019</td><td>Simiyu   </td><td>2.45     </td></tr>\n",
       "\t<tr><td>Nov      </td><td>2001-2019</td><td>Simiyu   </td><td>3.09     </td></tr>\n",
       "\t<tr><td>Dec      </td><td>2001-2019</td><td>Simiyu   </td><td>3.89     </td></tr>\n",
       "</tbody>\n",
       "</table>\n"
      ],
      "text/latex": [
       "\\begin{tabular}{r|llll}\n",
       " Month & Period & Lake & Rainfall\\_mm\\\\\n",
       "\\hline\n",
       "\t Jan       & 2001-2019 & Victoria  & 3.18     \\\\\n",
       "\t Feb       & 2001-2019 & Victoria  & 3.48     \\\\\n",
       "\t Mar       & 2001-2019 & Victoria  & 4.69     \\\\\n",
       "\t Apr       & 2001-2019 & Victoria  & 7.00     \\\\\n",
       "\t May       & 2001-2019 & Victoria  & 9.36     \\\\\n",
       "\t Jun       & 2001-2019 & Victoria  & 3.43     \\\\\n",
       "\t Jul       & 2001-2019 & Victoria  & 1.76     \\\\\n",
       "\t Aug       & 2001-2019 & Victoria  & 2.81     \\\\\n",
       "\t Sep       & 2001-2019 & Victoria  & 3.98     \\\\\n",
       "\t Oct       & 2001-2019 & Victoria  & 5.32     \\\\\n",
       "\t Nov       & 2001-2019 & Victoria  & 5.12     \\\\\n",
       "\t Dec       & 2001-2019 & Victoria  & 4.17     \\\\\n",
       "\t Jan       & 2001-2019 & Simiyu    & 2.91     \\\\\n",
       "\t Feb       & 2001-2019 & Simiyu    & 1.80     \\\\\n",
       "\t Mar       & 2001-2019 & Simiyu    & 2.98     \\\\\n",
       "\t Apr       & 2001-2019 & Simiyu    & 4.75     \\\\\n",
       "\t May       & 2001-2019 & Simiyu    & 4.08     \\\\\n",
       "\t Jun       & 2001-2019 & Simiyu    & 1.05     \\\\\n",
       "\t Jul       & 2001-2019 & Simiyu    & 0.20     \\\\\n",
       "\t Aug       & 2001-2019 & Simiyu    & 0.33     \\\\\n",
       "\t Sep       & 2001-2019 & Simiyu    & 1.21     \\\\\n",
       "\t Oct       & 2001-2019 & Simiyu    & 2.45     \\\\\n",
       "\t Nov       & 2001-2019 & Simiyu    & 3.09     \\\\\n",
       "\t Dec       & 2001-2019 & Simiyu    & 3.89     \\\\\n",
       "\\end{tabular}\n"
      ],
      "text/markdown": [
       "\n",
       "| Month | Period | Lake | Rainfall_mm |\n",
       "|---|---|---|---|\n",
       "| Jan       | 2001-2019 | Victoria  | 3.18      |\n",
       "| Feb       | 2001-2019 | Victoria  | 3.48      |\n",
       "| Mar       | 2001-2019 | Victoria  | 4.69      |\n",
       "| Apr       | 2001-2019 | Victoria  | 7.00      |\n",
       "| May       | 2001-2019 | Victoria  | 9.36      |\n",
       "| Jun       | 2001-2019 | Victoria  | 3.43      |\n",
       "| Jul       | 2001-2019 | Victoria  | 1.76      |\n",
       "| Aug       | 2001-2019 | Victoria  | 2.81      |\n",
       "| Sep       | 2001-2019 | Victoria  | 3.98      |\n",
       "| Oct       | 2001-2019 | Victoria  | 5.32      |\n",
       "| Nov       | 2001-2019 | Victoria  | 5.12      |\n",
       "| Dec       | 2001-2019 | Victoria  | 4.17      |\n",
       "| Jan       | 2001-2019 | Simiyu    | 2.91      |\n",
       "| Feb       | 2001-2019 | Simiyu    | 1.80      |\n",
       "| Mar       | 2001-2019 | Simiyu    | 2.98      |\n",
       "| Apr       | 2001-2019 | Simiyu    | 4.75      |\n",
       "| May       | 2001-2019 | Simiyu    | 4.08      |\n",
       "| Jun       | 2001-2019 | Simiyu    | 1.05      |\n",
       "| Jul       | 2001-2019 | Simiyu    | 0.20      |\n",
       "| Aug       | 2001-2019 | Simiyu    | 0.33      |\n",
       "| Sep       | 2001-2019 | Simiyu    | 1.21      |\n",
       "| Oct       | 2001-2019 | Simiyu    | 2.45      |\n",
       "| Nov       | 2001-2019 | Simiyu    | 3.09      |\n",
       "| Dec       | 2001-2019 | Simiyu    | 3.89      |\n",
       "\n"
      ],
      "text/plain": [
       "   Month Period    Lake     Rainfall_mm\n",
       "1  Jan   2001-2019 Victoria 3.18       \n",
       "2  Feb   2001-2019 Victoria 3.48       \n",
       "3  Mar   2001-2019 Victoria 4.69       \n",
       "4  Apr   2001-2019 Victoria 7.00       \n",
       "5  May   2001-2019 Victoria 9.36       \n",
       "6  Jun   2001-2019 Victoria 3.43       \n",
       "7  Jul   2001-2019 Victoria 1.76       \n",
       "8  Aug   2001-2019 Victoria 2.81       \n",
       "9  Sep   2001-2019 Victoria 3.98       \n",
       "10 Oct   2001-2019 Victoria 5.32       \n",
       "11 Nov   2001-2019 Victoria 5.12       \n",
       "12 Dec   2001-2019 Victoria 4.17       \n",
       "13 Jan   2001-2019 Simiyu   2.91       \n",
       "14 Feb   2001-2019 Simiyu   1.80       \n",
       "15 Mar   2001-2019 Simiyu   2.98       \n",
       "16 Apr   2001-2019 Simiyu   4.75       \n",
       "17 May   2001-2019 Simiyu   4.08       \n",
       "18 Jun   2001-2019 Simiyu   1.05       \n",
       "19 Jul   2001-2019 Simiyu   0.20       \n",
       "20 Aug   2001-2019 Simiyu   0.33       \n",
       "21 Sep   2001-2019 Simiyu   1.21       \n",
       "22 Oct   2001-2019 Simiyu   2.45       \n",
       "23 Nov   2001-2019 Simiyu   3.09       \n",
       "24 Dec   2001-2019 Simiyu   3.89       "
      ]
     },
     "metadata": {},
     "output_type": "display_data"
    }
   ],
   "source": [
    "write.table(clean_data, file = \"clean_data.txt\")\n",
    "read.table(\"clean_data.txt\")"
   ]
  },
  {
   "cell_type": "markdown",
   "id": "47fdb692",
   "metadata": {},
   "source": [
    "## Other Tidy R Functions\n",
    "\n",
    "The above functions only scratch the surface of the tidyr package. The reshape functions mentioned above have their reverse counterparts. For example, if you want to spread rows across columns, you will want to use the spread function. For example, if you want two columns for rainfall in each lake, you would use the following code."
   ]
  },
  {
   "cell_type": "code",
   "execution_count": 19,
   "id": "1c949ebb",
   "metadata": {},
   "outputs": [
    {
     "name": "stdout",
     "output_type": "stream",
     "text": [
      "# A tibble: 12 x 4\n",
      "   Month Period    Simiyu Victoria\n",
      "   <chr> <chr>      <dbl>    <dbl>\n",
      " 1 Apr   2001-2019   4.75     7   \n",
      " 2 Aug   2001-2019   0.33     2.81\n",
      " 3 Dec   2001-2019   3.89     4.17\n",
      " 4 Feb   2001-2019   1.8      3.48\n",
      " 5 Jan   2001-2019   2.91     3.18\n",
      " 6 Jul   2001-2019   0.2      1.76\n",
      " 7 Jun   2001-2019   1.05     3.43\n",
      " 8 Mar   2001-2019   2.98     4.69\n",
      " 9 May   2001-2019   4.08     9.36\n",
      "10 Nov   2001-2019   3.09     5.12\n",
      "11 Oct   2001-2019   2.45     5.32\n",
      "12 Sep   2001-2019   1.21     3.98\n"
     ]
    }
   ],
   "source": [
    "wide_data<-spread(clean_data, \"Lake\", \"Rainfall_mm\")\n",
    "print(wide_data)"
   ]
  },
  {
   "cell_type": "markdown",
   "id": "9172e351",
   "metadata": {},
   "source": [
    "Like before, we used the separate function to separate the Month and Period columns, but you can reunite these columns using the unite function."
   ]
  },
  {
   "cell_type": "code",
   "execution_count": 20,
   "id": "acd553aa",
   "metadata": {},
   "outputs": [
    {
     "name": "stdout",
     "output_type": "stream",
     "text": [
      "# A tibble: 12 x 3\n",
      "   `Month,Period` Simiyu Victoria\n",
      "   <chr>           <dbl>    <dbl>\n",
      " 1 Apr,2001-2019    4.75     7   \n",
      " 2 Aug,2001-2019    0.33     2.81\n",
      " 3 Dec,2001-2019    3.89     4.17\n",
      " 4 Feb,2001-2019    1.8      3.48\n",
      " 5 Jan,2001-2019    2.91     3.18\n",
      " 6 Jul,2001-2019    0.2      1.76\n",
      " 7 Jun,2001-2019    1.05     3.43\n",
      " 8 Mar,2001-2019    2.98     4.69\n",
      " 9 May,2001-2019    4.08     9.36\n",
      "10 Nov,2001-2019    3.09     5.12\n",
      "11 Oct,2001-2019    2.45     5.32\n",
      "12 Sep,2001-2019    1.21     3.98\n"
     ]
    }
   ],
   "source": [
    "wide_data<-unite(wide_data,col=\"Month,Period\",c(\"Month\", \"Period\"), sep=\",\")\n",
    "print(wide_data)"
   ]
  },
  {
   "cell_type": "markdown",
   "id": "02d16dd5",
   "metadata": {},
   "source": [
    "In Part 2 we will discuss how to manipulate your data using the dplyr package!"
   ]
  }
 ],
 "metadata": {
  "kernelspec": {
   "display_name": "R",
   "language": "R",
   "name": "ir"
  },
  "language_info": {
   "codemirror_mode": "r",
   "file_extension": ".r",
   "mimetype": "text/x-r-source",
   "name": "R",
   "pygments_lexer": "r",
   "version": "3.6.1"
  }
 },
 "nbformat": 4,
 "nbformat_minor": 5
}
