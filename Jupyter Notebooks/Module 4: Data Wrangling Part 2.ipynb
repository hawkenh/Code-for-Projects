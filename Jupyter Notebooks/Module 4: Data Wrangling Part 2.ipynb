{
 "cells": [
  {
   "cell_type": "markdown",
   "id": "cddce5f7",
   "metadata": {},
   "source": [
    "# Module 4: Data Wrangling Part 2\n",
    "## How to Clean and Manipulate your Data in R\n",
    "## Hawken Hass\n",
    "## University of North Carolina Wilmington"
   ]
  },
  {
   "cell_type": "markdown",
   "id": "60767a06",
   "metadata": {},
   "source": [
    "# Manipulating your Data\n",
    "\n",
    "Once your data is all clean, you can manipulate your data. Data manipulation can include grouping data, combining data sets, summarizing data, and making new variables. For this, we are going to use the dplyr package."
   ]
  },
  {
   "cell_type": "code",
   "execution_count": null,
   "id": "1547da76",
   "metadata": {},
   "outputs": [],
   "source": [
    "library(dplyr)\n"
   ]
  },
  {
   "cell_type": "markdown",
   "id": "fb2db46e",
   "metadata": {},
   "source": [
    "For this module, let's use our data we just cleaned in the last module. I refactored the data to make sure that the levels are in the correct order."
   ]
  },
  {
   "cell_type": "code",
   "execution_count": null,
   "id": "22242654",
   "metadata": {},
   "outputs": [],
   "source": [
    "clean_data<-read.table(\"clean_data.txt\")\n",
    "clean_data$Month<-factor(clean_data$Month, levels=unique(clean_data$Month))\n",
    "clean_data"
   ]
  },
  {
   "cell_type": "markdown",
   "id": "ac351823",
   "metadata": {},
   "source": [
    "## Filtering Data by Rows\n",
    "The filter function allows you to subset rows from your data frame. For example, let's say we only want to look at rainfall in the month of January. We can do that using the filter function. "
   ]
  },
  {
   "cell_type": "code",
   "execution_count": null,
   "id": "42311ff1",
   "metadata": {},
   "outputs": [],
   "source": [
    "filter(clean_data, Month==\"Jan\")"
   ]
  },
  {
   "cell_type": "markdown",
   "id": "3fb66773",
   "metadata": {},
   "source": [
    "Since there are only two observations for each month, this is a pretty small data frame. However, this function is quite useful for large datasets. In the second argument, you denote an operate that tells the function how you would like to filter the column. Since we wanted only values for the month of January, we used the \"==\" operator. There are many different operators you can use to filter your data. For example, the code below would filter out any rainfall measurement that is less than 1."
   ]
  },
  {
   "cell_type": "code",
   "execution_count": null,
   "id": "3a0d21ad",
   "metadata": {
    "scrolled": true
   },
   "outputs": [],
   "source": [
    "filter(clean_data, Rainfall_mm>1)"
   ]
  },
  {
   "cell_type": "markdown",
   "id": "101a9a71",
   "metadata": {},
   "source": [
    "Here are some more examples of operators.\n",
    "\n",
    "- `== (Equal to)`\n",
    "- `!= (Not equal to)`\n",
    "- `< (Less than)`\n",
    "- `<= (Less than or equal to)`\n",
    "- `> (Greater than)`\n",
    "- `>= (Greater than or equal to)`"
   ]
  },
  {
   "cell_type": "markdown",
   "id": "505184e8",
   "metadata": {},
   "source": [
    "## Filtering by Columns\n",
    "\n",
    "The select function is used to filter out specific columns. The select function also uses helper functions to filter out columns based on certain properties. Using double quotes, you can filter out columns of a certain name."
   ]
  },
  {
   "cell_type": "code",
   "execution_count": null,
   "id": "808f5c7a",
   "metadata": {},
   "outputs": [],
   "source": [
    "select(clean_data, contains(\"Lake\"))"
   ]
  },
  {
   "cell_type": "markdown",
   "id": "2a3bde0c",
   "metadata": {},
   "source": [
    "The \"-\" operator can be used to denote which columns you want to exclude."
   ]
  },
  {
   "cell_type": "code",
   "execution_count": null,
   "id": "1e392722",
   "metadata": {},
   "outputs": [],
   "source": [
    "select(clean_data, -Period)"
   ]
  },
  {
   "cell_type": "markdown",
   "id": "dbe8a9cc",
   "metadata": {},
   "source": [
    "### Piping\n",
    "It may be unproductive to create one line of code for each data cleaning and manipulating function. Sometimes you will see programmers use a pipe. A pipe looks like this: %>%. Piping can make your code easier to read and efficient. For example, everything I just did above can be done in one line of code using a couple of pipes."
   ]
  },
  {
   "cell_type": "code",
   "execution_count": null,
   "id": "6e014888",
   "metadata": {},
   "outputs": [],
   "source": [
    "new_data<-clean_data%>%select(-Period)%>%filter(Rainfall_mm>1)%>%filter(Lake==\"Victoria\")\n",
    "print(new_data)"
   ]
  },
  {
   "cell_type": "markdown",
   "id": "f3b82ddb",
   "metadata": {},
   "source": [
    "You can see how piping made our code more efficient. In one line of code we were able to create a new data set that removed the period column, and outputed only values for Lake Victoria that were greater than 1 mm. This is very useful for large datasets."
   ]
  },
  {
   "cell_type": "markdown",
   "id": "8b726781",
   "metadata": {},
   "source": [
    "## Summarize Data\n",
    "\n",
    "The dplyr function also allows you to summarize your data using different summary functions."
   ]
  },
  {
   "cell_type": "code",
   "execution_count": null,
   "id": "43b483e6",
   "metadata": {},
   "outputs": [],
   "source": [
    "summarise(clean_data, avg=mean(Rainfall_mm))"
   ]
  },
  {
   "cell_type": "markdown",
   "id": "fb4f5d66",
   "metadata": {},
   "source": [
    "You can add more than one summary function in each argument."
   ]
  },
  {
   "cell_type": "code",
   "execution_count": null,
   "id": "5401944c",
   "metadata": {},
   "outputs": [],
   "source": [
    "summarise(clean_data, avg=mean(Rainfall_mm), n=n(), sd=sd(Rainfall_mm), var=var(Rainfall_mm),median=median(Rainfall_mm), min=min(Rainfall_mm), max=max(Rainfall_mm))"
   ]
  },
  {
   "cell_type": "markdown",
   "id": "40b9a68e",
   "metadata": {},
   "source": [
    "It may be more useful to look at the average rainfall for both groups. We can find the means of separate groups by using the group_by function and piping it to the summarise function. The code would look like this:"
   ]
  },
  {
   "cell_type": "code",
   "execution_count": null,
   "id": "ff80b7f4",
   "metadata": {},
   "outputs": [],
   "source": [
    "clean_data%>%group_by(Lake)%>%summarise(avg=mean(Rainfall_mm), sd=sd(Rainfall_mm), min=min(Rainfall_mm), max=max(Rainfall_mm))"
   ]
  },
  {
   "cell_type": "markdown",
   "id": "02c9400c",
   "metadata": {},
   "source": [
    "## Creating New Variables\n",
    "\n",
    "Dplyr also allows you to create new variables within your data set using the mutate function. In this function you are computing a new variable from an existing variable. The basic code for the function is:\n",
    "\n",
    "- mutate(df, name of new column= formula)\n",
    "\n",
    "For example, let's say we want to transform the Rainfall_mm to measure rainfall in inches. "
   ]
  },
  {
   "cell_type": "code",
   "execution_count": null,
   "id": "e7a7b990",
   "metadata": {},
   "outputs": [],
   "source": [
    "clean_data_2<-mutate(clean_data, Rainfall_inches=Rainfall_mm*0.039)\n",
    "clean_data_2"
   ]
  },
  {
   "cell_type": "markdown",
   "id": "7fc13991",
   "metadata": {},
   "source": [
    "## Combining Data Sets\n",
    "\n",
    "Dplyr also has the ability to combine data sets into one. Let's read in some more lake data and combine it with our current data set!"
   ]
  },
  {
   "cell_type": "code",
   "execution_count": null,
   "id": "527f351e",
   "metadata": {
    "scrolled": true
   },
   "outputs": [],
   "source": [
    "lake_data<-read.table(\"lake_data.txt\")\n",
    "print(lake_data)\n"
   ]
  },
  {
   "cell_type": "markdown",
   "id": "55ef7a19",
   "metadata": {},
   "source": [
    "Now we have two more lakes: Lake SeaHawk and Lake Randall along with their monthly rainfall in mm. Let's clean and tidy our data to make it look like our clean_data data frame."
   ]
  },
  {
   "cell_type": "code",
   "execution_count": null,
   "id": "1269af86",
   "metadata": {},
   "outputs": [],
   "source": [
    "library(tidyr)\n",
    "lake_data<-lake_data %>% gather(key=\"Lake\",value=\"Rainfall_mm\",3:4)%>%mutate(Rainfall_inches=Rainfall_mm*0.039)\n",
    "lake_data"
   ]
  },
  {
   "cell_type": "markdown",
   "id": "46323e44",
   "metadata": {},
   "source": [
    "Let's combine our two data sets!"
   ]
  },
  {
   "cell_type": "code",
   "execution_count": null,
   "id": "ccf4e635",
   "metadata": {
    "scrolled": true
   },
   "outputs": [],
   "source": [
    "All_lakes<-bind_rows(clean_data_2,lake_data)\n",
    "All_lakes$Month<-as.factor(All_lakes$Month)\n",
    "All_lakes$Lake<-as.factor(All_lakes$Lake)\n",
    "print(All_lakes)\n"
   ]
  },
  {
   "cell_type": "markdown",
   "id": "f92dcbd2",
   "metadata": {},
   "source": [
    "The bind_rows function adds the rows from your second argument to the dataframe in your first argument. You can also use the bind_cols function to add the columns from one dataset to the other. For this example, let's get our data back into wide format."
   ]
  },
  {
   "cell_type": "code",
   "execution_count": null,
   "id": "60a57952",
   "metadata": {},
   "outputs": [],
   "source": [
    "clean_data_wide<-clean_data%>%spread(key=\"Lake\",value=\"Rainfall_mm\")\n",
    "clean_data_wide"
   ]
  },
  {
   "cell_type": "code",
   "execution_count": null,
   "id": "416e3b78",
   "metadata": {},
   "outputs": [],
   "source": [
    "lake_data_wide<-read.table(\"lake_data.txt\")\n",
    "All_lakes_wide<-bind_cols(clean_data_wide,lake_data_wide)\n",
    "All_lakes_wide"
   ]
  },
  {
   "cell_type": "markdown",
   "id": "8d4748bc",
   "metadata": {},
   "source": [
    "You'll notice that this created two new columns \"Month1\" and \"Period1\" because they share the same name in both datasets. To account for this you can use the full join function. Using the \"by=\" argument, you can join columns that have the same name and values."
   ]
  },
  {
   "cell_type": "code",
   "execution_count": null,
   "id": "85c502d6",
   "metadata": {},
   "outputs": [],
   "source": [
    "full_join(clean_data_wide,lake_data_wide, by=c(\"Month\",\"Period\"))"
   ]
  },
  {
   "cell_type": "markdown",
   "id": "9371dea5",
   "metadata": {},
   "source": [
    "Always read any warning messages that R outputs. You'll notice that because the month columns have different levels, R automatically converts it to a character vector. In this case, make sure you refactor your data if necessary. "
   ]
  },
  {
   "cell_type": "markdown",
   "id": "f853f325",
   "metadata": {},
   "source": [
    "There are many other functions that dplyr offers. I would recommend exploring different functions to learn how to properly manipulate your data. In the next module we will learn all about t-tests!"
   ]
  }
 ],
 "metadata": {
  "kernelspec": {
   "display_name": "R",
   "language": "R",
   "name": "ir"
  },
  "language_info": {
   "codemirror_mode": "r",
   "file_extension": ".r",
   "mimetype": "text/x-r-source",
   "name": "R",
   "pygments_lexer": "r",
   "version": "3.6.1"
  }
 },
 "nbformat": 4,
 "nbformat_minor": 5
}
